{
 "cells": [
  {
   "cell_type": "markdown",
   "metadata": {},
   "source": [
    "## **Entity Extraction from IBM's Quaterly Earning Transcript call using Granite-8B**"
   ]
  },
  {
   "cell_type": "markdown",
   "metadata": {},
   "source": [
    "##### This notebook works with two approaches to extract the entities from the transcript. The first approach is defining the entities in the prompt directly along with its description. In the second approach, we are defining the entities in a class and then converting it into pydantic function. This is then passed along with the prompt to the LLM."
   ]
  },
  {
   "cell_type": "markdown",
   "metadata": {},
   "source": [
    "##### The model used in this notebook is IBM's Granite-8b.\n",
    "Authors: Anupam Chakraborty, Amogh Ranavade, Madhu Kanukula"
   ]
  },
  {
   "cell_type": "markdown",
   "metadata": {},
   "source": [
    "### Install dependencies"
   ]
  },
  {
   "cell_type": "code",
   "execution_count": 17,
   "metadata": {},
   "outputs": [
    {
     "name": "stdout",
     "output_type": "stream",
     "text": [
      "Collecting git+https://github.com/ibm-granite-community/utils\n",
      "  Cloning https://github.com/ibm-granite-community/utils to /private/var/folders/bb/yhn_xpt54b10d138nmjsk8x40000gn/T/pip-req-build-t8pqsuj8\n",
      "  Running command git clone --filter=blob:none --quiet https://github.com/ibm-granite-community/utils /private/var/folders/bb/yhn_xpt54b10d138nmjsk8x40000gn/T/pip-req-build-t8pqsuj8\n",
      "  Resolved https://github.com/ibm-granite-community/utils to commit cb77088230aa59c48725b0ade23460a7e3672ae6\n",
      "  Installing build dependencies ... \u001b[?25ldone\n",
      "\u001b[?25h  Getting requirements to build wheel ... \u001b[?25ldone\n",
      "\u001b[?25h  Preparing metadata (pyproject.toml) ... \u001b[?25ldone\n",
      "\u001b[?25hRequirement already satisfied: langchain-community in /Users/madhukanukula/WORKSPACE/GRANITE-COOKBOOK/granite-finance-cookbook/.venv/lib/python3.12/site-packages (0.3.14)\n",
      "Requirement already satisfied: langchain-docling in /Users/madhukanukula/WORKSPACE/GRANITE-COOKBOOK/granite-finance-cookbook/.venv/lib/python3.12/site-packages (0.2.0)\n",
      "Requirement already satisfied: langchain-core in /Users/madhukanukula/WORKSPACE/GRANITE-COOKBOOK/granite-finance-cookbook/.venv/lib/python3.12/site-packages (0.3.29)\n",
      "Requirement already satisfied: langchain-huggingface in /Users/madhukanukula/WORKSPACE/GRANITE-COOKBOOK/granite-finance-cookbook/.venv/lib/python3.12/site-packages (0.1.2)\n",
      "Requirement already satisfied: langchain in /Users/madhukanukula/WORKSPACE/GRANITE-COOKBOOK/granite-finance-cookbook/.venv/lib/python3.12/site-packages (0.3.14)\n",
      "Requirement already satisfied: pydantic in /Users/madhukanukula/WORKSPACE/GRANITE-COOKBOOK/granite-finance-cookbook/.venv/lib/python3.12/site-packages (2.10.5)\n",
      "Requirement already satisfied: python-dotenv in /Users/madhukanukula/WORKSPACE/GRANITE-COOKBOOK/granite-finance-cookbook/.venv/lib/python3.12/site-packages (1.0.1)\n",
      "Requirement already satisfied: replicate in /Users/madhukanukula/WORKSPACE/GRANITE-COOKBOOK/granite-finance-cookbook/.venv/lib/python3.12/site-packages (1.0.4)\n",
      "Requirement already satisfied: PyYAML>=5.3 in /Users/madhukanukula/WORKSPACE/GRANITE-COOKBOOK/granite-finance-cookbook/.venv/lib/python3.12/site-packages (from langchain-community) (6.0.2)\n",
      "Requirement already satisfied: SQLAlchemy<3,>=1.4 in /Users/madhukanukula/WORKSPACE/GRANITE-COOKBOOK/granite-finance-cookbook/.venv/lib/python3.12/site-packages (from langchain-community) (2.0.37)\n",
      "Requirement already satisfied: aiohttp<4.0.0,>=3.8.3 in /Users/madhukanukula/WORKSPACE/GRANITE-COOKBOOK/granite-finance-cookbook/.venv/lib/python3.12/site-packages (from langchain-community) (3.11.11)\n",
      "Requirement already satisfied: dataclasses-json<0.7,>=0.5.7 in /Users/madhukanukula/WORKSPACE/GRANITE-COOKBOOK/granite-finance-cookbook/.venv/lib/python3.12/site-packages (from langchain-community) (0.6.7)\n",
      "Requirement already satisfied: httpx-sse<0.5.0,>=0.4.0 in /Users/madhukanukula/WORKSPACE/GRANITE-COOKBOOK/granite-finance-cookbook/.venv/lib/python3.12/site-packages (from langchain-community) (0.4.0)\n",
      "Requirement already satisfied: langsmith<0.3,>=0.1.125 in /Users/madhukanukula/WORKSPACE/GRANITE-COOKBOOK/granite-finance-cookbook/.venv/lib/python3.12/site-packages (from langchain-community) (0.1.147)\n",
      "Requirement already satisfied: numpy<3,>=1.26.2 in /Users/madhukanukula/WORKSPACE/GRANITE-COOKBOOK/granite-finance-cookbook/.venv/lib/python3.12/site-packages (from langchain-community) (1.26.4)\n",
      "Requirement already satisfied: pydantic-settings<3.0.0,>=2.4.0 in /Users/madhukanukula/WORKSPACE/GRANITE-COOKBOOK/granite-finance-cookbook/.venv/lib/python3.12/site-packages (from langchain-community) (2.7.1)\n",
      "Requirement already satisfied: requests<3,>=2 in /Users/madhukanukula/WORKSPACE/GRANITE-COOKBOOK/granite-finance-cookbook/.venv/lib/python3.12/site-packages (from langchain-community) (2.32.3)\n",
      "Requirement already satisfied: tenacity!=8.4.0,<10,>=8.1.0 in /Users/madhukanukula/WORKSPACE/GRANITE-COOKBOOK/granite-finance-cookbook/.venv/lib/python3.12/site-packages (from langchain-community) (8.5.0)\n",
      "Requirement already satisfied: docling<3.0.0,>=2.14.0 in /Users/madhukanukula/WORKSPACE/GRANITE-COOKBOOK/granite-finance-cookbook/.venv/lib/python3.12/site-packages (from langchain-docling) (2.15.1)\n",
      "Requirement already satisfied: jsonpatch<2.0,>=1.33 in /Users/madhukanukula/WORKSPACE/GRANITE-COOKBOOK/granite-finance-cookbook/.venv/lib/python3.12/site-packages (from langchain-core) (1.33)\n",
      "Requirement already satisfied: packaging<25,>=23.2 in /Users/madhukanukula/WORKSPACE/GRANITE-COOKBOOK/granite-finance-cookbook/.venv/lib/python3.12/site-packages (from langchain-core) (24.2)\n",
      "Requirement already satisfied: typing-extensions>=4.7 in /Users/madhukanukula/WORKSPACE/GRANITE-COOKBOOK/granite-finance-cookbook/.venv/lib/python3.12/site-packages (from langchain-core) (4.12.2)\n",
      "Requirement already satisfied: huggingface-hub>=0.23.0 in /Users/madhukanukula/WORKSPACE/GRANITE-COOKBOOK/granite-finance-cookbook/.venv/lib/python3.12/site-packages (from langchain-huggingface) (0.27.1)\n",
      "Requirement already satisfied: sentence-transformers>=2.6.0 in /Users/madhukanukula/WORKSPACE/GRANITE-COOKBOOK/granite-finance-cookbook/.venv/lib/python3.12/site-packages (from langchain-huggingface) (3.3.1)\n",
      "Requirement already satisfied: tokenizers>=0.19.1 in /Users/madhukanukula/WORKSPACE/GRANITE-COOKBOOK/granite-finance-cookbook/.venv/lib/python3.12/site-packages (from langchain-huggingface) (0.21.0)\n",
      "Requirement already satisfied: transformers>=4.39.0 in /Users/madhukanukula/WORKSPACE/GRANITE-COOKBOOK/granite-finance-cookbook/.venv/lib/python3.12/site-packages (from langchain-huggingface) (4.48.0)\n",
      "Requirement already satisfied: langchain-text-splitters<0.4.0,>=0.3.3 in /Users/madhukanukula/WORKSPACE/GRANITE-COOKBOOK/granite-finance-cookbook/.venv/lib/python3.12/site-packages (from langchain) (0.3.5)\n",
      "Requirement already satisfied: annotated-types>=0.6.0 in /Users/madhukanukula/WORKSPACE/GRANITE-COOKBOOK/granite-finance-cookbook/.venv/lib/python3.12/site-packages (from pydantic) (0.7.0)\n",
      "Requirement already satisfied: pydantic-core==2.27.2 in /Users/madhukanukula/WORKSPACE/GRANITE-COOKBOOK/granite-finance-cookbook/.venv/lib/python3.12/site-packages (from pydantic) (2.27.2)\n",
      "Requirement already satisfied: httpx<1,>=0.21.0 in /Users/madhukanukula/WORKSPACE/GRANITE-COOKBOOK/granite-finance-cookbook/.venv/lib/python3.12/site-packages (from replicate) (0.28.1)\n",
      "Requirement already satisfied: aiohappyeyeballs>=2.3.0 in /Users/madhukanukula/WORKSPACE/GRANITE-COOKBOOK/granite-finance-cookbook/.venv/lib/python3.12/site-packages (from aiohttp<4.0.0,>=3.8.3->langchain-community) (2.4.4)\n",
      "Requirement already satisfied: aiosignal>=1.1.2 in /Users/madhukanukula/WORKSPACE/GRANITE-COOKBOOK/granite-finance-cookbook/.venv/lib/python3.12/site-packages (from aiohttp<4.0.0,>=3.8.3->langchain-community) (1.3.2)\n",
      "Requirement already satisfied: attrs>=17.3.0 in /Users/madhukanukula/WORKSPACE/GRANITE-COOKBOOK/granite-finance-cookbook/.venv/lib/python3.12/site-packages (from aiohttp<4.0.0,>=3.8.3->langchain-community) (24.3.0)\n",
      "Requirement already satisfied: frozenlist>=1.1.1 in /Users/madhukanukula/WORKSPACE/GRANITE-COOKBOOK/granite-finance-cookbook/.venv/lib/python3.12/site-packages (from aiohttp<4.0.0,>=3.8.3->langchain-community) (1.5.0)\n",
      "Requirement already satisfied: multidict<7.0,>=4.5 in /Users/madhukanukula/WORKSPACE/GRANITE-COOKBOOK/granite-finance-cookbook/.venv/lib/python3.12/site-packages (from aiohttp<4.0.0,>=3.8.3->langchain-community) (6.1.0)\n",
      "Requirement already satisfied: propcache>=0.2.0 in /Users/madhukanukula/WORKSPACE/GRANITE-COOKBOOK/granite-finance-cookbook/.venv/lib/python3.12/site-packages (from aiohttp<4.0.0,>=3.8.3->langchain-community) (0.2.1)\n",
      "Requirement already satisfied: yarl<2.0,>=1.17.0 in /Users/madhukanukula/WORKSPACE/GRANITE-COOKBOOK/granite-finance-cookbook/.venv/lib/python3.12/site-packages (from aiohttp<4.0.0,>=3.8.3->langchain-community) (1.18.3)\n",
      "Requirement already satisfied: marshmallow<4.0.0,>=3.18.0 in /Users/madhukanukula/WORKSPACE/GRANITE-COOKBOOK/granite-finance-cookbook/.venv/lib/python3.12/site-packages (from dataclasses-json<0.7,>=0.5.7->langchain-community) (3.25.1)\n",
      "Requirement already satisfied: typing-inspect<1,>=0.4.0 in /Users/madhukanukula/WORKSPACE/GRANITE-COOKBOOK/granite-finance-cookbook/.venv/lib/python3.12/site-packages (from dataclasses-json<0.7,>=0.5.7->langchain-community) (0.9.0)\n",
      "Requirement already satisfied: beautifulsoup4<5.0.0,>=4.12.3 in /Users/madhukanukula/WORKSPACE/GRANITE-COOKBOOK/granite-finance-cookbook/.venv/lib/python3.12/site-packages (from docling<3.0.0,>=2.14.0->langchain-docling) (4.12.3)\n",
      "Requirement already satisfied: certifi>=2024.7.4 in /Users/madhukanukula/WORKSPACE/GRANITE-COOKBOOK/granite-finance-cookbook/.venv/lib/python3.12/site-packages (from docling<3.0.0,>=2.14.0->langchain-docling) (2024.12.14)\n",
      "Requirement already satisfied: deepsearch-glm<2.0.0,>=1.0.0 in /Users/madhukanukula/WORKSPACE/GRANITE-COOKBOOK/granite-finance-cookbook/.venv/lib/python3.12/site-packages (from docling<3.0.0,>=2.14.0->langchain-docling) (1.0.0)\n",
      "Requirement already satisfied: docling-core<3.0.0,>=2.13.1 in /Users/madhukanukula/WORKSPACE/GRANITE-COOKBOOK/granite-finance-cookbook/.venv/lib/python3.12/site-packages (from docling-core[chunking]<3.0.0,>=2.13.1->docling<3.0.0,>=2.14.0->langchain-docling) (2.14.0)\n",
      "Requirement already satisfied: docling-ibm-models<4.0.0,>=3.1.0 in /Users/madhukanukula/WORKSPACE/GRANITE-COOKBOOK/granite-finance-cookbook/.venv/lib/python3.12/site-packages (from docling<3.0.0,>=2.14.0->langchain-docling) (3.1.2)\n",
      "Requirement already satisfied: docling-parse<4.0.0,>=3.0.0 in /Users/madhukanukula/WORKSPACE/GRANITE-COOKBOOK/granite-finance-cookbook/.venv/lib/python3.12/site-packages (from docling<3.0.0,>=2.14.0->langchain-docling) (3.0.0)\n",
      "Requirement already satisfied: easyocr<2.0,>=1.7 in /Users/madhukanukula/WORKSPACE/GRANITE-COOKBOOK/granite-finance-cookbook/.venv/lib/python3.12/site-packages (from docling<3.0.0,>=2.14.0->langchain-docling) (1.7.2)\n",
      "Requirement already satisfied: filetype<2.0.0,>=1.2.0 in /Users/madhukanukula/WORKSPACE/GRANITE-COOKBOOK/granite-finance-cookbook/.venv/lib/python3.12/site-packages (from docling<3.0.0,>=2.14.0->langchain-docling) (1.2.0)\n",
      "Requirement already satisfied: lxml<6.0.0,>=4.0.0 in /Users/madhukanukula/WORKSPACE/GRANITE-COOKBOOK/granite-finance-cookbook/.venv/lib/python3.12/site-packages (from docling<3.0.0,>=2.14.0->langchain-docling) (5.3.0)\n",
      "Requirement already satisfied: marko<3.0.0,>=2.1.2 in /Users/madhukanukula/WORKSPACE/GRANITE-COOKBOOK/granite-finance-cookbook/.venv/lib/python3.12/site-packages (from docling<3.0.0,>=2.14.0->langchain-docling) (2.1.2)\n",
      "Requirement already satisfied: openpyxl<4.0.0,>=3.1.5 in /Users/madhukanukula/WORKSPACE/GRANITE-COOKBOOK/granite-finance-cookbook/.venv/lib/python3.12/site-packages (from docling<3.0.0,>=2.14.0->langchain-docling) (3.1.5)\n",
      "Requirement already satisfied: pandas<3.0.0,>=2.1.4 in /Users/madhukanukula/WORKSPACE/GRANITE-COOKBOOK/granite-finance-cookbook/.venv/lib/python3.12/site-packages (from docling<3.0.0,>=2.14.0->langchain-docling) (2.2.3)\n",
      "Requirement already satisfied: pypdfium2<5.0.0,>=4.30.0 in /Users/madhukanukula/WORKSPACE/GRANITE-COOKBOOK/granite-finance-cookbook/.venv/lib/python3.12/site-packages (from docling<3.0.0,>=2.14.0->langchain-docling) (4.30.1)\n",
      "Requirement already satisfied: python-docx<2.0.0,>=1.1.2 in /Users/madhukanukula/WORKSPACE/GRANITE-COOKBOOK/granite-finance-cookbook/.venv/lib/python3.12/site-packages (from docling<3.0.0,>=2.14.0->langchain-docling) (1.1.2)\n",
      "Requirement already satisfied: python-pptx<2.0.0,>=1.0.2 in /Users/madhukanukula/WORKSPACE/GRANITE-COOKBOOK/granite-finance-cookbook/.venv/lib/python3.12/site-packages (from docling<3.0.0,>=2.14.0->langchain-docling) (1.0.2)\n",
      "Requirement already satisfied: rtree<2.0.0,>=1.3.0 in /Users/madhukanukula/WORKSPACE/GRANITE-COOKBOOK/granite-finance-cookbook/.venv/lib/python3.12/site-packages (from docling<3.0.0,>=2.14.0->langchain-docling) (1.3.0)\n",
      "Requirement already satisfied: scipy<2.0.0,>=1.6.0 in /Users/madhukanukula/WORKSPACE/GRANITE-COOKBOOK/granite-finance-cookbook/.venv/lib/python3.12/site-packages (from docling<3.0.0,>=2.14.0->langchain-docling) (1.15.1)\n",
      "Requirement already satisfied: typer<0.13.0,>=0.12.5 in /Users/madhukanukula/WORKSPACE/GRANITE-COOKBOOK/granite-finance-cookbook/.venv/lib/python3.12/site-packages (from docling<3.0.0,>=2.14.0->langchain-docling) (0.12.5)\n",
      "Requirement already satisfied: anyio in /Users/madhukanukula/WORKSPACE/GRANITE-COOKBOOK/granite-finance-cookbook/.venv/lib/python3.12/site-packages (from httpx<1,>=0.21.0->replicate) (4.8.0)\n",
      "Requirement already satisfied: httpcore==1.* in /Users/madhukanukula/WORKSPACE/GRANITE-COOKBOOK/granite-finance-cookbook/.venv/lib/python3.12/site-packages (from httpx<1,>=0.21.0->replicate) (1.0.7)\n",
      "Requirement already satisfied: idna in /Users/madhukanukula/WORKSPACE/GRANITE-COOKBOOK/granite-finance-cookbook/.venv/lib/python3.12/site-packages (from httpx<1,>=0.21.0->replicate) (3.10)\n",
      "Requirement already satisfied: h11<0.15,>=0.13 in /Users/madhukanukula/WORKSPACE/GRANITE-COOKBOOK/granite-finance-cookbook/.venv/lib/python3.12/site-packages (from httpcore==1.*->httpx<1,>=0.21.0->replicate) (0.14.0)\n",
      "Requirement already satisfied: filelock in /Users/madhukanukula/WORKSPACE/GRANITE-COOKBOOK/granite-finance-cookbook/.venv/lib/python3.12/site-packages (from huggingface-hub>=0.23.0->langchain-huggingface) (3.16.1)\n",
      "Requirement already satisfied: fsspec>=2023.5.0 in /Users/madhukanukula/WORKSPACE/GRANITE-COOKBOOK/granite-finance-cookbook/.venv/lib/python3.12/site-packages (from huggingface-hub>=0.23.0->langchain-huggingface) (2024.12.0)\n",
      "Requirement already satisfied: tqdm>=4.42.1 in /Users/madhukanukula/WORKSPACE/GRANITE-COOKBOOK/granite-finance-cookbook/.venv/lib/python3.12/site-packages (from huggingface-hub>=0.23.0->langchain-huggingface) (4.67.1)\n",
      "Requirement already satisfied: jsonpointer>=1.9 in /Users/madhukanukula/WORKSPACE/GRANITE-COOKBOOK/granite-finance-cookbook/.venv/lib/python3.12/site-packages (from jsonpatch<2.0,>=1.33->langchain-core) (3.0.0)\n",
      "Requirement already satisfied: orjson<4.0.0,>=3.9.14 in /Users/madhukanukula/WORKSPACE/GRANITE-COOKBOOK/granite-finance-cookbook/.venv/lib/python3.12/site-packages (from langsmith<0.3,>=0.1.125->langchain-community) (3.10.14)\n",
      "Requirement already satisfied: requests-toolbelt<2.0.0,>=1.0.0 in /Users/madhukanukula/WORKSPACE/GRANITE-COOKBOOK/granite-finance-cookbook/.venv/lib/python3.12/site-packages (from langsmith<0.3,>=0.1.125->langchain-community) (1.0.0)\n",
      "Requirement already satisfied: charset-normalizer<4,>=2 in /Users/madhukanukula/WORKSPACE/GRANITE-COOKBOOK/granite-finance-cookbook/.venv/lib/python3.12/site-packages (from requests<3,>=2->langchain-community) (3.4.1)\n",
      "Requirement already satisfied: urllib3<3,>=1.21.1 in /Users/madhukanukula/WORKSPACE/GRANITE-COOKBOOK/granite-finance-cookbook/.venv/lib/python3.12/site-packages (from requests<3,>=2->langchain-community) (2.3.0)\n",
      "Requirement already satisfied: torch>=1.11.0 in /Users/madhukanukula/WORKSPACE/GRANITE-COOKBOOK/granite-finance-cookbook/.venv/lib/python3.12/site-packages (from sentence-transformers>=2.6.0->langchain-huggingface) (2.5.1)\n",
      "Requirement already satisfied: scikit-learn in /Users/madhukanukula/WORKSPACE/GRANITE-COOKBOOK/granite-finance-cookbook/.venv/lib/python3.12/site-packages (from sentence-transformers>=2.6.0->langchain-huggingface) (1.6.1)\n",
      "Requirement already satisfied: Pillow in /Users/madhukanukula/WORKSPACE/GRANITE-COOKBOOK/granite-finance-cookbook/.venv/lib/python3.12/site-packages (from sentence-transformers>=2.6.0->langchain-huggingface) (10.4.0)\n",
      "Requirement already satisfied: regex!=2019.12.17 in /Users/madhukanukula/WORKSPACE/GRANITE-COOKBOOK/granite-finance-cookbook/.venv/lib/python3.12/site-packages (from transformers>=4.39.0->langchain-huggingface) (2024.11.6)\n",
      "Requirement already satisfied: safetensors>=0.4.1 in /Users/madhukanukula/WORKSPACE/GRANITE-COOKBOOK/granite-finance-cookbook/.venv/lib/python3.12/site-packages (from transformers>=4.39.0->langchain-huggingface) (0.5.2)\n",
      "Requirement already satisfied: soupsieve>1.2 in /Users/madhukanukula/WORKSPACE/GRANITE-COOKBOOK/granite-finance-cookbook/.venv/lib/python3.12/site-packages (from beautifulsoup4<5.0.0,>=4.12.3->docling<3.0.0,>=2.14.0->langchain-docling) (2.6)\n",
      "Requirement already satisfied: jsonref<2.0.0,>=1.1.0 in /Users/madhukanukula/WORKSPACE/GRANITE-COOKBOOK/granite-finance-cookbook/.venv/lib/python3.12/site-packages (from docling-core<3.0.0,>=2.13.1->docling-core[chunking]<3.0.0,>=2.13.1->docling<3.0.0,>=2.14.0->langchain-docling) (1.1.0)\n",
      "Requirement already satisfied: jsonschema<5.0.0,>=4.16.0 in /Users/madhukanukula/WORKSPACE/GRANITE-COOKBOOK/granite-finance-cookbook/.venv/lib/python3.12/site-packages (from docling-core<3.0.0,>=2.13.1->docling-core[chunking]<3.0.0,>=2.13.1->docling<3.0.0,>=2.14.0->langchain-docling) (4.23.0)\n",
      "Requirement already satisfied: tabulate<0.10.0,>=0.9.0 in /Users/madhukanukula/WORKSPACE/GRANITE-COOKBOOK/granite-finance-cookbook/.venv/lib/python3.12/site-packages (from docling-core<3.0.0,>=2.13.1->docling-core[chunking]<3.0.0,>=2.13.1->docling<3.0.0,>=2.14.0->langchain-docling) (0.9.0)\n",
      "Requirement already satisfied: semchunk<3.0.0,>=2.2.0 in /Users/madhukanukula/WORKSPACE/GRANITE-COOKBOOK/granite-finance-cookbook/.venv/lib/python3.12/site-packages (from docling-core[chunking]<3.0.0,>=2.13.1->docling<3.0.0,>=2.14.0->langchain-docling) (2.2.2)\n",
      "Requirement already satisfied: jsonlines<4.0.0,>=3.1.0 in /Users/madhukanukula/WORKSPACE/GRANITE-COOKBOOK/granite-finance-cookbook/.venv/lib/python3.12/site-packages (from docling-ibm-models<4.0.0,>=3.1.0->docling<3.0.0,>=2.14.0->langchain-docling) (3.1.0)\n",
      "Requirement already satisfied: opencv-python-headless<5.0.0.0,>=4.6.0.66 in /Users/madhukanukula/WORKSPACE/GRANITE-COOKBOOK/granite-finance-cookbook/.venv/lib/python3.12/site-packages (from docling-ibm-models<4.0.0,>=3.1.0->docling<3.0.0,>=2.14.0->langchain-docling) (4.10.0.84)\n",
      "Requirement already satisfied: torchvision<1,>=0 in /Users/madhukanukula/WORKSPACE/GRANITE-COOKBOOK/granite-finance-cookbook/.venv/lib/python3.12/site-packages (from docling-ibm-models<4.0.0,>=3.1.0->docling<3.0.0,>=2.14.0->langchain-docling) (0.20.1)\n",
      "Requirement already satisfied: autoflake<3.0.0,>=2.3.1 in /Users/madhukanukula/WORKSPACE/GRANITE-COOKBOOK/granite-finance-cookbook/.venv/lib/python3.12/site-packages (from docling-parse<4.0.0,>=3.0.0->docling<3.0.0,>=2.14.0->langchain-docling) (2.3.1)\n",
      "Requirement already satisfied: scikit-image in /Users/madhukanukula/WORKSPACE/GRANITE-COOKBOOK/granite-finance-cookbook/.venv/lib/python3.12/site-packages (from easyocr<2.0,>=1.7->docling<3.0.0,>=2.14.0->langchain-docling) (0.25.0)\n",
      "Requirement already satisfied: python-bidi in /Users/madhukanukula/WORKSPACE/GRANITE-COOKBOOK/granite-finance-cookbook/.venv/lib/python3.12/site-packages (from easyocr<2.0,>=1.7->docling<3.0.0,>=2.14.0->langchain-docling) (0.6.3)\n",
      "Requirement already satisfied: Shapely in /Users/madhukanukula/WORKSPACE/GRANITE-COOKBOOK/granite-finance-cookbook/.venv/lib/python3.12/site-packages (from easyocr<2.0,>=1.7->docling<3.0.0,>=2.14.0->langchain-docling) (2.0.6)\n",
      "Requirement already satisfied: pyclipper in /Users/madhukanukula/WORKSPACE/GRANITE-COOKBOOK/granite-finance-cookbook/.venv/lib/python3.12/site-packages (from easyocr<2.0,>=1.7->docling<3.0.0,>=2.14.0->langchain-docling) (1.3.0.post6)\n",
      "Requirement already satisfied: ninja in /Users/madhukanukula/WORKSPACE/GRANITE-COOKBOOK/granite-finance-cookbook/.venv/lib/python3.12/site-packages (from easyocr<2.0,>=1.7->docling<3.0.0,>=2.14.0->langchain-docling) (1.11.1.3)\n",
      "Requirement already satisfied: et-xmlfile in /Users/madhukanukula/WORKSPACE/GRANITE-COOKBOOK/granite-finance-cookbook/.venv/lib/python3.12/site-packages (from openpyxl<4.0.0,>=3.1.5->docling<3.0.0,>=2.14.0->langchain-docling) (2.0.0)\n",
      "Requirement already satisfied: python-dateutil>=2.8.2 in /Users/madhukanukula/WORKSPACE/GRANITE-COOKBOOK/granite-finance-cookbook/.venv/lib/python3.12/site-packages (from pandas<3.0.0,>=2.1.4->docling<3.0.0,>=2.14.0->langchain-docling) (2.9.0.post0)\n",
      "Requirement already satisfied: pytz>=2020.1 in /Users/madhukanukula/WORKSPACE/GRANITE-COOKBOOK/granite-finance-cookbook/.venv/lib/python3.12/site-packages (from pandas<3.0.0,>=2.1.4->docling<3.0.0,>=2.14.0->langchain-docling) (2024.2)\n",
      "Requirement already satisfied: tzdata>=2022.7 in /Users/madhukanukula/WORKSPACE/GRANITE-COOKBOOK/granite-finance-cookbook/.venv/lib/python3.12/site-packages (from pandas<3.0.0,>=2.1.4->docling<3.0.0,>=2.14.0->langchain-docling) (2024.2)\n",
      "Requirement already satisfied: XlsxWriter>=0.5.7 in /Users/madhukanukula/WORKSPACE/GRANITE-COOKBOOK/granite-finance-cookbook/.venv/lib/python3.12/site-packages (from python-pptx<2.0.0,>=1.0.2->docling<3.0.0,>=2.14.0->langchain-docling) (3.2.0)\n",
      "Requirement already satisfied: networkx in /Users/madhukanukula/WORKSPACE/GRANITE-COOKBOOK/granite-finance-cookbook/.venv/lib/python3.12/site-packages (from torch>=1.11.0->sentence-transformers>=2.6.0->langchain-huggingface) (3.4.2)\n",
      "Requirement already satisfied: jinja2 in /Users/madhukanukula/WORKSPACE/GRANITE-COOKBOOK/granite-finance-cookbook/.venv/lib/python3.12/site-packages (from torch>=1.11.0->sentence-transformers>=2.6.0->langchain-huggingface) (3.1.5)\n",
      "Requirement already satisfied: setuptools in /Users/madhukanukula/WORKSPACE/GRANITE-COOKBOOK/granite-finance-cookbook/.venv/lib/python3.12/site-packages (from torch>=1.11.0->sentence-transformers>=2.6.0->langchain-huggingface) (75.8.0)\n",
      "Requirement already satisfied: sympy==1.13.1 in /Users/madhukanukula/WORKSPACE/GRANITE-COOKBOOK/granite-finance-cookbook/.venv/lib/python3.12/site-packages (from torch>=1.11.0->sentence-transformers>=2.6.0->langchain-huggingface) (1.13.1)\n",
      "Requirement already satisfied: mpmath<1.4,>=1.1.0 in /Users/madhukanukula/WORKSPACE/GRANITE-COOKBOOK/granite-finance-cookbook/.venv/lib/python3.12/site-packages (from sympy==1.13.1->torch>=1.11.0->sentence-transformers>=2.6.0->langchain-huggingface) (1.3.0)\n",
      "Requirement already satisfied: click>=8.0.0 in /Users/madhukanukula/WORKSPACE/GRANITE-COOKBOOK/granite-finance-cookbook/.venv/lib/python3.12/site-packages (from typer<0.13.0,>=0.12.5->docling<3.0.0,>=2.14.0->langchain-docling) (8.1.8)\n",
      "Requirement already satisfied: shellingham>=1.3.0 in /Users/madhukanukula/WORKSPACE/GRANITE-COOKBOOK/granite-finance-cookbook/.venv/lib/python3.12/site-packages (from typer<0.13.0,>=0.12.5->docling<3.0.0,>=2.14.0->langchain-docling) (1.5.4)\n",
      "Requirement already satisfied: rich>=10.11.0 in /Users/madhukanukula/WORKSPACE/GRANITE-COOKBOOK/granite-finance-cookbook/.venv/lib/python3.12/site-packages (from typer<0.13.0,>=0.12.5->docling<3.0.0,>=2.14.0->langchain-docling) (13.9.4)\n",
      "Requirement already satisfied: mypy-extensions>=0.3.0 in /Users/madhukanukula/WORKSPACE/GRANITE-COOKBOOK/granite-finance-cookbook/.venv/lib/python3.12/site-packages (from typing-inspect<1,>=0.4.0->dataclasses-json<0.7,>=0.5.7->langchain-community) (1.0.0)\n",
      "Requirement already satisfied: sniffio>=1.1 in /Users/madhukanukula/WORKSPACE/GRANITE-COOKBOOK/granite-finance-cookbook/.venv/lib/python3.12/site-packages (from anyio->httpx<1,>=0.21.0->replicate) (1.3.1)\n",
      "Requirement already satisfied: joblib>=1.2.0 in /Users/madhukanukula/WORKSPACE/GRANITE-COOKBOOK/granite-finance-cookbook/.venv/lib/python3.12/site-packages (from scikit-learn->sentence-transformers>=2.6.0->langchain-huggingface) (1.4.2)\n",
      "Requirement already satisfied: threadpoolctl>=3.1.0 in /Users/madhukanukula/WORKSPACE/GRANITE-COOKBOOK/granite-finance-cookbook/.venv/lib/python3.12/site-packages (from scikit-learn->sentence-transformers>=2.6.0->langchain-huggingface) (3.5.0)\n",
      "Requirement already satisfied: pyflakes>=3.0.0 in /Users/madhukanukula/WORKSPACE/GRANITE-COOKBOOK/granite-finance-cookbook/.venv/lib/python3.12/site-packages (from autoflake<3.0.0,>=2.3.1->docling-parse<4.0.0,>=3.0.0->docling<3.0.0,>=2.14.0->langchain-docling) (3.2.0)\n",
      "Requirement already satisfied: jsonschema-specifications>=2023.03.6 in /Users/madhukanukula/WORKSPACE/GRANITE-COOKBOOK/granite-finance-cookbook/.venv/lib/python3.12/site-packages (from jsonschema<5.0.0,>=4.16.0->docling-core<3.0.0,>=2.13.1->docling-core[chunking]<3.0.0,>=2.13.1->docling<3.0.0,>=2.14.0->langchain-docling) (2024.10.1)\n",
      "Requirement already satisfied: referencing>=0.28.4 in /Users/madhukanukula/WORKSPACE/GRANITE-COOKBOOK/granite-finance-cookbook/.venv/lib/python3.12/site-packages (from jsonschema<5.0.0,>=4.16.0->docling-core<3.0.0,>=2.13.1->docling-core[chunking]<3.0.0,>=2.13.1->docling<3.0.0,>=2.14.0->langchain-docling) (0.35.1)\n",
      "Requirement already satisfied: rpds-py>=0.7.1 in /Users/madhukanukula/WORKSPACE/GRANITE-COOKBOOK/granite-finance-cookbook/.venv/lib/python3.12/site-packages (from jsonschema<5.0.0,>=4.16.0->docling-core<3.0.0,>=2.13.1->docling-core[chunking]<3.0.0,>=2.13.1->docling<3.0.0,>=2.14.0->langchain-docling) (0.22.3)\n",
      "Requirement already satisfied: six>=1.5 in /Users/madhukanukula/WORKSPACE/GRANITE-COOKBOOK/granite-finance-cookbook/.venv/lib/python3.12/site-packages (from python-dateutil>=2.8.2->pandas<3.0.0,>=2.1.4->docling<3.0.0,>=2.14.0->langchain-docling) (1.17.0)\n",
      "Requirement already satisfied: markdown-it-py>=2.2.0 in /Users/madhukanukula/WORKSPACE/GRANITE-COOKBOOK/granite-finance-cookbook/.venv/lib/python3.12/site-packages (from rich>=10.11.0->typer<0.13.0,>=0.12.5->docling<3.0.0,>=2.14.0->langchain-docling) (3.0.0)\n",
      "Requirement already satisfied: pygments<3.0.0,>=2.13.0 in /Users/madhukanukula/WORKSPACE/GRANITE-COOKBOOK/granite-finance-cookbook/.venv/lib/python3.12/site-packages (from rich>=10.11.0->typer<0.13.0,>=0.12.5->docling<3.0.0,>=2.14.0->langchain-docling) (2.19.1)\n",
      "Requirement already satisfied: mpire[dill] in /Users/madhukanukula/WORKSPACE/GRANITE-COOKBOOK/granite-finance-cookbook/.venv/lib/python3.12/site-packages (from semchunk<3.0.0,>=2.2.0->docling-core[chunking]<3.0.0,>=2.13.1->docling<3.0.0,>=2.14.0->langchain-docling) (2.10.2)\n",
      "Requirement already satisfied: MarkupSafe>=2.0 in /Users/madhukanukula/WORKSPACE/GRANITE-COOKBOOK/granite-finance-cookbook/.venv/lib/python3.12/site-packages (from jinja2->torch>=1.11.0->sentence-transformers>=2.6.0->langchain-huggingface) (3.0.2)\n",
      "Requirement already satisfied: imageio!=2.35.0,>=2.33 in /Users/madhukanukula/WORKSPACE/GRANITE-COOKBOOK/granite-finance-cookbook/.venv/lib/python3.12/site-packages (from scikit-image->easyocr<2.0,>=1.7->docling<3.0.0,>=2.14.0->langchain-docling) (2.36.1)\n",
      "Requirement already satisfied: tifffile>=2022.8.12 in /Users/madhukanukula/WORKSPACE/GRANITE-COOKBOOK/granite-finance-cookbook/.venv/lib/python3.12/site-packages (from scikit-image->easyocr<2.0,>=1.7->docling<3.0.0,>=2.14.0->langchain-docling) (2025.1.10)\n",
      "Requirement already satisfied: lazy-loader>=0.4 in /Users/madhukanukula/WORKSPACE/GRANITE-COOKBOOK/granite-finance-cookbook/.venv/lib/python3.12/site-packages (from scikit-image->easyocr<2.0,>=1.7->docling<3.0.0,>=2.14.0->langchain-docling) (0.4)\n",
      "Requirement already satisfied: mdurl~=0.1 in /Users/madhukanukula/WORKSPACE/GRANITE-COOKBOOK/granite-finance-cookbook/.venv/lib/python3.12/site-packages (from markdown-it-py>=2.2.0->rich>=10.11.0->typer<0.13.0,>=0.12.5->docling<3.0.0,>=2.14.0->langchain-docling) (0.1.2)\n",
      "Requirement already satisfied: multiprocess>=0.70.15 in /Users/madhukanukula/WORKSPACE/GRANITE-COOKBOOK/granite-finance-cookbook/.venv/lib/python3.12/site-packages (from mpire[dill]->semchunk<3.0.0,>=2.2.0->docling-core[chunking]<3.0.0,>=2.13.1->docling<3.0.0,>=2.14.0->langchain-docling) (0.70.17)\n",
      "Requirement already satisfied: dill>=0.3.9 in /Users/madhukanukula/WORKSPACE/GRANITE-COOKBOOK/granite-finance-cookbook/.venv/lib/python3.12/site-packages (from multiprocess>=0.70.15->mpire[dill]->semchunk<3.0.0,>=2.2.0->docling-core[chunking]<3.0.0,>=2.13.1->docling<3.0.0,>=2.14.0->langchain-docling) (0.3.9)\n"
     ]
    }
   ],
   "source": [
    "\n",
    "! pip install langchain-community \\\n",
    "    langchain-docling \\\n",
    "    langchain-core \\\n",
    "    langchain-huggingface \\\n",
    "    langchain \\\n",
    "    pydantic \\\n",
    "    git+https://github.com/ibm-granite-community/utils langchain_community replicate"
   ]
  },
  {
   "cell_type": "markdown",
   "metadata": {},
   "source": [
    "### Instantiate the model client"
   ]
  },
  {
   "cell_type": "code",
   "execution_count": 18,
   "metadata": {},
   "outputs": [],
   "source": [
    "import json\n",
    "import requests\n",
    "from langchain_community.llms import Replicate\n",
    "from ibm_granite_community.notebook_utils import get_env_var\n",
    "\n",
    "model = Replicate(\n",
    "    model=\"ibm-granite/granite-3.1-8b-instruct\",\n",
    "    replicate_api_token=get_env_var('REPLICATE_API_TOKEN'),\n",
    ")"
   ]
  },
  {
   "cell_type": "markdown",
   "metadata": {},
   "source": [
    "---"
   ]
  },
  {
   "cell_type": "markdown",
   "metadata": {},
   "source": [
    "### 1 - Entity Extraction by defining entities in the prompt"
   ]
  },
  {
   "cell_type": "markdown",
   "metadata": {},
   "source": [
    "The first approach is straightforward and involves explicitly defining the entities within the prompt itself. In this method, we specify the entities to be extracted along with their descriptions directly in the prompt. This includes:  \n",
    "\n",
    "<u>**Entity Definitions:**</u> Each entity, such as company name, name of the CEO are clearly outlined with a concise description of what it represents.  \n",
    "\n",
    "<u>**Prompt Structure:**</u> The prompt is structured to guide the LLM in understanding exactly what information is needed. By providing detailed instructions, we aim to ensure that the model focuses on extracting only the relevant data.  \n",
    "\n",
    "<u>**Output Format:**</u> The output is required to be in JSON format, which enforces a consistent structure for the extracted data. If any entity is not found, the model is instructed to return \"Data not available,\" preventing ambiguity.  "
   ]
  },
  {
   "cell_type": "markdown",
   "metadata": {},
   "source": [
    "### Reading from the transcript PDF."
   ]
  },
  {
   "cell_type": "markdown",
   "metadata": {},
   "source": [
    "Transcript is taken from -> https://www.ibm.com/investor/att/pdf/IBM-3Q23-Earnings-Prepared-Remarks.pdf"
   ]
  },
  {
   "cell_type": "markdown",
   "metadata": {},
   "source": [
    "We are loading the PDF from this link"
   ]
  },
  {
   "cell_type": "code",
   "execution_count": 19,
   "metadata": {},
   "outputs": [],
   "source": [
    "url = \"https://www.ibm.com/investor/att/pdf/IBM-3Q23-Earnings-Prepared-Remarks.pdf\"\n",
    "response = requests.get(url)\n",
    "pdf_data = response.content\n",
    "\n",
    "with open(\"IBM-3Q23-Earnings-Prepared-Remarks.pdf\", \"wb\") as file:\n",
    "    file.write(pdf_data)"
   ]
  },
  {
   "cell_type": "code",
   "execution_count": 20,
   "metadata": {},
   "outputs": [],
   "source": [
    "from langchain_docling import DoclingLoader\n",
    "from docling.chunking import HybridChunker\n",
    "from langchain_docling.loader import ExportType\n",
    "\n",
    "EMBED_MODEL_ID = \"ibm-granite/granite-embedding-125m-english\"\n",
    "EXPORT_TYPE = ExportType.DOC_CHUNKS\n",
    "\n",
    "def extract_text_from_pages(pdf_path):\n",
    "\n",
    "    loader = DoclingLoader(\n",
    "        file_path=pdf_path,\n",
    "        export_type=EXPORT_TYPE,\n",
    "        chunker=HybridChunker(tokenizer=EMBED_MODEL_ID),\n",
    "    )\n",
    "\n",
    "    docs = loader.load()\n",
    "    return docs"
   ]
  },
  {
   "cell_type": "code",
   "execution_count": 21,
   "metadata": {},
   "outputs": [],
   "source": [
    "transcript_content = extract_text_from_pages(\"IBM-3Q23-Earnings-Prepared-Remarks.pdf\")"
   ]
  },
  {
   "cell_type": "markdown",
   "metadata": {},
   "source": [
    "All the entities that needs to be fetched are defined in the prompt itself along with the entity's description."
   ]
  },
  {
   "cell_type": "code",
   "execution_count": 22,
   "metadata": {},
   "outputs": [],
   "source": [
    "transcript_prompt = f\"\"\"\n",
    "<|start_of_role|>user<|end_of_role|>\n",
    "-You are AI Entity Extractor. You help extracting entities from the given transcript: {transcript_content}\n",
    "-Analyze this transcript and extract the following entities:\n",
    "\n",
    "1) `company_name` : This is the name of the company for which the transcript is given.\n",
    "2) `pre_tax_profit_percentage`: This is the operating pre-tax profit in percentage.\n",
    "3) `pre_tax_profit_number`: This is the operating pre-tax profit in numbers.\n",
    "4) `total_revenue_transaction_processing`: This is the total revenue growth for Transaction Processing sector in percentage.\n",
    "5) `total_revenue_data_ai`: This is the total revenue growth for Data and AI sector in percentage.\n",
    "6) `total_revenue_security`: This is the total revenue growth/decline for security sector in percentage.\n",
    "7) `total_revenue_automation`: This is total revenue growth/decline for automation sector in percentage.\n",
    "\n",
    "-Your output should strictly be in a json format.\n",
    "-If any entity is not found, your output shound be `data not available`. Do not make up your own entites if it is not present\n",
    "-Only strictly do what is asked to you. Do not give any explanations to your output.\n",
    "<|end_of_text|>\n",
    "<|start_of_role|>assistant<|end_of_role|>   \n",
    "\"\"\""
   ]
  },
  {
   "cell_type": "markdown",
   "metadata": {},
   "source": [
    "Invoking the model to get the results"
   ]
  },
  {
   "cell_type": "code",
   "execution_count": 23,
   "metadata": {},
   "outputs": [
    {
     "name": "stdout",
     "output_type": "stream",
     "text": [
      "{\n",
      "  \"company_name\": \"IBM\",\n",
      "  \"pre_tax_profit_percentage\": \"17%\",\n",
      "  \"pre_tax_profit_number\": \"$2.3 billion\",\n",
      "  \"total_revenue_transaction_processing\": \"5%\",\n",
      "  \"total_revenue_data_ai\": \"6%\",\n",
      "  \"total_revenue_security\": \"-3%\",\n",
      "  \"total_revenue_automation\": \"13%\"\n",
      "}\n"
     ]
    }
   ],
   "source": [
    "response = model.invoke(transcript_prompt)\n",
    "print(response)"
   ]
  },
  {
   "cell_type": "code",
   "execution_count": 24,
   "metadata": {},
   "outputs": [
    {
     "data": {
      "text/plain": [
       "{'company_name': 'IBM',\n",
       " 'pre_tax_profit_percentage': '17%',\n",
       " 'pre_tax_profit_number': '$2.3 billion',\n",
       " 'total_revenue_transaction_processing': '5%',\n",
       " 'total_revenue_data_ai': '6%',\n",
       " 'total_revenue_security': '-3%',\n",
       " 'total_revenue_automation': '13%'}"
      ]
     },
     "execution_count": 24,
     "metadata": {},
     "output_type": "execute_result"
    }
   ],
   "source": [
    "entities_transcript = json.loads(response)\n",
    "entities_transcript"
   ]
  },
  {
   "cell_type": "markdown",
   "metadata": {},
   "source": [
    "---"
   ]
  },
  {
   "cell_type": "markdown",
   "metadata": {},
   "source": [
    "### 2 - Pydantic Class-Based Entity Definition"
   ]
  },
  {
   "cell_type": "markdown",
   "metadata": {},
   "source": [
    "The second approach takes advantage of object-oriented programming principles by defining entities within a class structure. This method involves several key steps:  \n",
    "\n",
    "<u>**Class Definition:**</u> We create a class that encapsulates all the relevant entities as members. Each member corresponds to an entity such as CEO name, company name, etc., and can include type annotations for better validation and clarity.  \n",
    "\n",
    "<u>**Pydantic Integration:**</u> Utilizing Pydantic, a data validation library, we convert this class into a Pydantic model. This model not only defines the structure of our data but also provides built-in validation features, ensuring that any extracted data adheres to specified formats and types.  \n",
    "\n",
    "<u>**Dynamic Prompting:**</u> The Pydantic model can then be integrated with the prompt sent to the LLM. This allows for a more dynamic interaction where the model can adapt based on the defined structure of entities. If new entities are added or existing ones modified, changes can be made at the class level without needing to rewrite the entire prompt.  \n",
    "\n",
    "<u>**Enhanced Validation:**</u> By leveraging Pydantic's capabilities, we can ensure that any data extracted by the LLM meets our predefined criteria, enhancing data integrity and reliability.  \n",
    "\n",
    "This class-based approach offers greater flexibility and scalability compared to the first method. It allows for easier modifications and expansions as new requirements arise, making it particularly suitable for larger projects or those requiring frequent updates."
   ]
  },
  {
   "cell_type": "markdown",
   "metadata": {},
   "source": [
    "Defining all the entities in a class along with the descripiton."
   ]
  },
  {
   "cell_type": "code",
   "execution_count": 25,
   "metadata": {},
   "outputs": [],
   "source": [
    "from pydantic import BaseModel, Field\n",
    "from typing import List\n",
    "from langchain.utils.openai_functions import convert_pydantic_to_openai_function"
   ]
  },
  {
   "cell_type": "markdown",
   "metadata": {},
   "source": [
    "Defining all the entities in a class along with the descripiton."
   ]
  },
  {
   "cell_type": "code",
   "execution_count": 26,
   "metadata": {},
   "outputs": [],
   "source": [
    "class PreTaxProfit(BaseModel):\n",
    "    \"This contains information of the company's pre-tax profit in percentage as well as in numbers.\"\n",
    "    pre_tax_profit_percentage: str = Field(description=\"Operating pre-tax profit in percentage.\")\n",
    "    pre_tax_profit_numbers: str = Field(description=\"Operating pre-tax profit in numbers.\")\n",
    "\n",
    "\n",
    "class RevenueGrowth(BaseModel):\n",
    "    \"This contains information of the company's revenue growth.\"\n",
    "    total_revenue_change_transaction_processing: float = Field(description=\"Total revenue change for Transaction Processing sector in percentage.\")\n",
    "    total_revenue_change_data_ai: float = Field(description=\"Total revenue change for Data and AI sector in percentage.\")\n",
    "    total_revenue_change_security: float = Field(description=\"Total revenue change for security sector in percentage.\")\n",
    "    total_revenue_change_automation: float = Field(description=\"Total revenue change for automation sector in percentage.\")"
   ]
  },
  {
   "cell_type": "markdown",
   "metadata": {},
   "source": [
    "Wrapping all the classes into one parent class which is given to pydantic."
   ]
  },
  {
   "cell_type": "code",
   "execution_count": 27,
   "metadata": {},
   "outputs": [],
   "source": [
    "class EarningCallReport(BaseModel):\n",
    "    \"This contains information about the company.\"\n",
    "    company_name: str = Field(description=\"The public company name.\")\n",
    "    pre_tax_profit: PreTaxProfit = Field(description=\"Operating pre-tax profit.\")\n",
    "    revenue: RevenueGrowth = Field(description=\"All revenue growth details for all sectors.\")"
   ]
  },
  {
   "cell_type": "code",
   "execution_count": 28,
   "metadata": {},
   "outputs": [],
   "source": [
    "transcript_function = convert_pydantic_to_openai_function(EarningCallReport)\n"
   ]
  },
  {
   "cell_type": "markdown",
   "metadata": {},
   "source": [
    "Same prompt as before, but here, the pydantic function is passed here instead of defining each entity in the prompt."
   ]
  },
  {
   "cell_type": "code",
   "execution_count": 29,
   "metadata": {},
   "outputs": [],
   "source": [
    "entity_prompt_with_pydantic = f\"\"\"\n",
    "<|start_of_role|>user<|end_of_role|>\n",
    "-You are AI Entity Extractor. You help extracting entities from the given transcript: {transcript_content}\n",
    "-Analyze this transcript and extract the following entities as per the following function defination: {transcript_function}\n",
    "-Your output should strictly be in a json format.\n",
    "-Do not generate random entities on your own. If it is not present or you are unable to find any specified entity, you strictly have to output it as `Data not available`.\n",
    "-Only do what is asked to you. Do not start with or give any explanations to your output and do not hallucinate.\n",
    "<|end_of_text|>\n",
    "<|start_of_role|>assistant<|end_of_role|>   \n",
    "\"\"\"\n"
   ]
  },
  {
   "cell_type": "markdown",
   "metadata": {},
   "source": [
    "Invoking the model to get the results"
   ]
  },
  {
   "cell_type": "code",
   "execution_count": 30,
   "metadata": {},
   "outputs": [
    {
     "name": "stdout",
     "output_type": "stream",
     "text": [
      "{\"company_name\": \"IBM\", \"pre_tax_profit\": {\"pre_tax_profit_percentage\": \"17%\", \"pre_tax_profit_numbers\": \"$2.3 billion\"}, \"revenue\": {\"total_revenue_change_transaction_processing\": 5, \"total_revenue_change_data_ai\": 6, \"total_revenue_change_security\": -3, \"total_revenue_change_automation\": 13}}\n"
     ]
    }
   ],
   "source": [
    "response = model.invoke(entity_prompt_with_pydantic)\n",
    "print(response)"
   ]
  },
  {
   "cell_type": "code",
   "execution_count": 31,
   "metadata": {},
   "outputs": [
    {
     "data": {
      "text/plain": [
       "{'company_name': 'IBM',\n",
       " 'pre_tax_profit': {'pre_tax_profit_percentage': '17%',\n",
       "  'pre_tax_profit_numbers': '$2.3 billion'},\n",
       " 'revenue': {'total_revenue_change_transaction_processing': 5,\n",
       "  'total_revenue_change_data_ai': 6,\n",
       "  'total_revenue_change_security': -3,\n",
       "  'total_revenue_change_automation': 13}}"
      ]
     },
     "execution_count": 31,
     "metadata": {},
     "output_type": "execute_result"
    }
   ],
   "source": [
    "entities_transcript_pydantic = json.loads(response)\n",
    "entities_transcript_pydantic"
   ]
  },
  {
   "cell_type": "markdown",
   "metadata": {},
   "source": [
    "---"
   ]
  }
 ],
 "metadata": {
  "kernelspec": {
   "display_name": ".venv",
   "language": "python",
   "name": "python3"
  },
  "language_info": {
   "codemirror_mode": {
    "name": "ipython",
    "version": 3
   },
   "file_extension": ".py",
   "mimetype": "text/x-python",
   "name": "python",
   "nbconvert_exporter": "python",
   "pygments_lexer": "ipython3",
   "version": "3.12.7"
  }
 },
 "nbformat": 4,
 "nbformat_minor": 2
}
