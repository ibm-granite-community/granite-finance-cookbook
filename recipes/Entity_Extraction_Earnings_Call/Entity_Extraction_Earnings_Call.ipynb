{
 "cells": [
  {
   "cell_type": "markdown",
   "metadata": {},
   "source": [
    "## **Entity Extraction from IBM's Quaterly Earning Transcript call using Granite-8B**"
   ]
  },
  {
   "cell_type": "markdown",
   "metadata": {},
   "source": [
    "##### This notebook works with two approaches to extract the entities from the transcript. The first approach is defining the entities in the prompt directly along with its description. In the second approach, we are defining the entities in a class and then converting it into pydantic function. This is then passed along with the prompt to the LLM."
   ]
  },
  {
   "cell_type": "markdown",
   "metadata": {},
   "source": [
    "##### The model used in this notebook is IBM's Granite-8b-preview-4k.\n",
    "Authors: Anupam Chakraborty, Amogh Ranavade"
   ]
  },
  {
   "cell_type": "markdown",
   "metadata": {},
   "source": [
    "----"
   ]
  },
  {
   "cell_type": "markdown",
   "metadata": {},
   "source": [
    "### Install dependencies"
   ]
  },
  {
   "cell_type": "code",
   "execution_count": 1,
   "metadata": {},
   "outputs": [
    {
     "name": "stdout",
     "output_type": "stream",
     "text": [
      "Requirement already satisfied: langchain-community in /Users/madhukanukula/WORKSPACE/GRANITE-COOKBOOK/granite-finance-cookbook/.venv/lib/python3.12/site-packages (0.2.19)\n",
      "Collecting langchain-docling\n",
      "  Downloading langchain_docling-0.2.0-py3-none-any.whl.metadata (2.7 kB)\n",
      "Requirement already satisfied: langchain-core in /Users/madhukanukula/WORKSPACE/GRANITE-COOKBOOK/granite-finance-cookbook/.venv/lib/python3.12/site-packages (0.2.43)\n",
      "Collecting langchain-huggingface\n",
      "  Using cached langchain_huggingface-0.1.2-py3-none-any.whl.metadata (1.3 kB)\n",
      "Requirement already satisfied: langchain in /Users/madhukanukula/WORKSPACE/GRANITE-COOKBOOK/granite-finance-cookbook/.venv/lib/python3.12/site-packages (0.2.17)\n",
      "Requirement already satisfied: PyYAML>=5.3 in /Users/madhukanukula/WORKSPACE/GRANITE-COOKBOOK/granite-finance-cookbook/.venv/lib/python3.12/site-packages (from langchain-community) (6.0.2)\n",
      "Requirement already satisfied: SQLAlchemy<3,>=1.4 in /Users/madhukanukula/WORKSPACE/GRANITE-COOKBOOK/granite-finance-cookbook/.venv/lib/python3.12/site-packages (from langchain-community) (2.0.37)\n",
      "Requirement already satisfied: aiohttp<4.0.0,>=3.8.3 in /Users/madhukanukula/WORKSPACE/GRANITE-COOKBOOK/granite-finance-cookbook/.venv/lib/python3.12/site-packages (from langchain-community) (3.11.11)\n",
      "Requirement already satisfied: dataclasses-json<0.7,>=0.5.7 in /Users/madhukanukula/WORKSPACE/GRANITE-COOKBOOK/granite-finance-cookbook/.venv/lib/python3.12/site-packages (from langchain-community) (0.6.7)\n",
      "Requirement already satisfied: langsmith<0.2.0,>=0.1.112 in /Users/madhukanukula/WORKSPACE/GRANITE-COOKBOOK/granite-finance-cookbook/.venv/lib/python3.12/site-packages (from langchain-community) (0.1.147)\n",
      "Requirement already satisfied: numpy<2.0.0,>=1.26.0 in /Users/madhukanukula/WORKSPACE/GRANITE-COOKBOOK/granite-finance-cookbook/.venv/lib/python3.12/site-packages (from langchain-community) (1.26.4)\n",
      "Requirement already satisfied: requests<3,>=2 in /Users/madhukanukula/WORKSPACE/GRANITE-COOKBOOK/granite-finance-cookbook/.venv/lib/python3.12/site-packages (from langchain-community) (2.32.3)\n",
      "Requirement already satisfied: tenacity!=8.4.0,<9.0.0,>=8.1.0 in /Users/madhukanukula/WORKSPACE/GRANITE-COOKBOOK/granite-finance-cookbook/.venv/lib/python3.12/site-packages (from langchain-community) (8.5.0)\n",
      "Collecting docling<3.0.0,>=2.14.0 (from langchain-docling)\n",
      "  Downloading docling-2.15.1-py3-none-any.whl.metadata (7.7 kB)\n",
      "INFO: pip is looking at multiple versions of langchain-docling to determine which version is compatible with other requirements. This could take a while.\n",
      "Collecting langchain-community\n",
      "  Downloading langchain_community-0.3.14-py3-none-any.whl.metadata (2.9 kB)\n",
      "Collecting httpx-sse<0.5.0,>=0.4.0 (from langchain-community)\n",
      "  Using cached httpx_sse-0.4.0-py3-none-any.whl.metadata (9.0 kB)\n",
      "Collecting langchain\n",
      "  Downloading langchain-0.3.14-py3-none-any.whl.metadata (7.1 kB)\n",
      "Collecting langchain-core\n",
      "  Downloading langchain_core-0.3.29-py3-none-any.whl.metadata (6.3 kB)\n",
      "Collecting pydantic-settings<3.0.0,>=2.4.0 (from langchain-community)\n",
      "  Downloading pydantic_settings-2.7.1-py3-none-any.whl.metadata (3.5 kB)\n",
      "Requirement already satisfied: jsonpatch<2.0,>=1.33 in /Users/madhukanukula/WORKSPACE/GRANITE-COOKBOOK/granite-finance-cookbook/.venv/lib/python3.12/site-packages (from langchain-core) (1.33)\n",
      "Requirement already satisfied: packaging<25,>=23.2 in /Users/madhukanukula/WORKSPACE/GRANITE-COOKBOOK/granite-finance-cookbook/.venv/lib/python3.12/site-packages (from langchain-core) (24.2)\n",
      "Requirement already satisfied: pydantic<3.0.0,>=2.7.4 in /Users/madhukanukula/WORKSPACE/GRANITE-COOKBOOK/granite-finance-cookbook/.venv/lib/python3.12/site-packages (from langchain-core) (2.10.5)\n",
      "Requirement already satisfied: typing-extensions>=4.7 in /Users/madhukanukula/WORKSPACE/GRANITE-COOKBOOK/granite-finance-cookbook/.venv/lib/python3.12/site-packages (from langchain-core) (4.12.2)\n",
      "Collecting huggingface-hub>=0.23.0 (from langchain-huggingface)\n",
      "  Downloading huggingface_hub-0.27.1-py3-none-any.whl.metadata (13 kB)\n",
      "Collecting sentence-transformers>=2.6.0 (from langchain-huggingface)\n",
      "  Using cached sentence_transformers-3.3.1-py3-none-any.whl.metadata (10 kB)\n",
      "Collecting tokenizers>=0.19.1 (from langchain-huggingface)\n",
      "  Using cached tokenizers-0.21.0-cp39-abi3-macosx_11_0_arm64.whl.metadata (6.7 kB)\n",
      "Collecting transformers>=4.39.0 (from langchain-huggingface)\n",
      "  Downloading transformers-4.48.0-py3-none-any.whl.metadata (44 kB)\n",
      "Collecting langchain-text-splitters<0.4.0,>=0.3.3 (from langchain)\n",
      "  Downloading langchain_text_splitters-0.3.5-py3-none-any.whl.metadata (2.3 kB)\n",
      "Requirement already satisfied: aiohappyeyeballs>=2.3.0 in /Users/madhukanukula/WORKSPACE/GRANITE-COOKBOOK/granite-finance-cookbook/.venv/lib/python3.12/site-packages (from aiohttp<4.0.0,>=3.8.3->langchain-community) (2.4.4)\n",
      "Requirement already satisfied: aiosignal>=1.1.2 in /Users/madhukanukula/WORKSPACE/GRANITE-COOKBOOK/granite-finance-cookbook/.venv/lib/python3.12/site-packages (from aiohttp<4.0.0,>=3.8.3->langchain-community) (1.3.2)\n",
      "Requirement already satisfied: attrs>=17.3.0 in /Users/madhukanukula/WORKSPACE/GRANITE-COOKBOOK/granite-finance-cookbook/.venv/lib/python3.12/site-packages (from aiohttp<4.0.0,>=3.8.3->langchain-community) (24.3.0)\n",
      "Requirement already satisfied: frozenlist>=1.1.1 in /Users/madhukanukula/WORKSPACE/GRANITE-COOKBOOK/granite-finance-cookbook/.venv/lib/python3.12/site-packages (from aiohttp<4.0.0,>=3.8.3->langchain-community) (1.5.0)\n",
      "Requirement already satisfied: multidict<7.0,>=4.5 in /Users/madhukanukula/WORKSPACE/GRANITE-COOKBOOK/granite-finance-cookbook/.venv/lib/python3.12/site-packages (from aiohttp<4.0.0,>=3.8.3->langchain-community) (6.1.0)\n",
      "Requirement already satisfied: propcache>=0.2.0 in /Users/madhukanukula/WORKSPACE/GRANITE-COOKBOOK/granite-finance-cookbook/.venv/lib/python3.12/site-packages (from aiohttp<4.0.0,>=3.8.3->langchain-community) (0.2.1)\n",
      "Requirement already satisfied: yarl<2.0,>=1.17.0 in /Users/madhukanukula/WORKSPACE/GRANITE-COOKBOOK/granite-finance-cookbook/.venv/lib/python3.12/site-packages (from aiohttp<4.0.0,>=3.8.3->langchain-community) (1.18.3)\n",
      "Requirement already satisfied: marshmallow<4.0.0,>=3.18.0 in /Users/madhukanukula/WORKSPACE/GRANITE-COOKBOOK/granite-finance-cookbook/.venv/lib/python3.12/site-packages (from dataclasses-json<0.7,>=0.5.7->langchain-community) (3.25.1)\n",
      "Requirement already satisfied: typing-inspect<1,>=0.4.0 in /Users/madhukanukula/WORKSPACE/GRANITE-COOKBOOK/granite-finance-cookbook/.venv/lib/python3.12/site-packages (from dataclasses-json<0.7,>=0.5.7->langchain-community) (0.9.0)\n",
      "Collecting beautifulsoup4<5.0.0,>=4.12.3 (from docling<3.0.0,>=2.14.0->langchain-docling)\n",
      "  Using cached beautifulsoup4-4.12.3-py3-none-any.whl.metadata (3.8 kB)\n",
      "Requirement already satisfied: certifi>=2024.7.4 in /Users/madhukanukula/WORKSPACE/GRANITE-COOKBOOK/granite-finance-cookbook/.venv/lib/python3.12/site-packages (from docling<3.0.0,>=2.14.0->langchain-docling) (2024.12.14)\n",
      "Collecting deepsearch-glm<2.0.0,>=1.0.0 (from docling<3.0.0,>=2.14.0->langchain-docling)\n",
      "  Using cached deepsearch_glm-1.0.0-cp312-cp312-macosx_14_0_arm64.whl.metadata (11 kB)\n",
      "Collecting docling-core<3.0.0,>=2.13.1 (from docling-core[chunking]<3.0.0,>=2.13.1->docling<3.0.0,>=2.14.0->langchain-docling)\n",
      "  Downloading docling_core-2.14.0-py3-none-any.whl.metadata (5.7 kB)\n",
      "Collecting docling-ibm-models<4.0.0,>=3.1.0 (from docling<3.0.0,>=2.14.0->langchain-docling)\n",
      "  Downloading docling_ibm_models-3.1.2-py3-none-any.whl.metadata (7.3 kB)\n",
      "Collecting docling-parse<4.0.0,>=3.0.0 (from docling<3.0.0,>=2.14.0->langchain-docling)\n",
      "  Using cached docling_parse-3.0.0-cp312-cp312-macosx_14_0_arm64.whl.metadata (7.5 kB)\n",
      "Collecting easyocr<2.0,>=1.7 (from docling<3.0.0,>=2.14.0->langchain-docling)\n",
      "  Using cached easyocr-1.7.2-py3-none-any.whl.metadata (10 kB)\n",
      "Collecting filetype<2.0.0,>=1.2.0 (from docling<3.0.0,>=2.14.0->langchain-docling)\n",
      "  Using cached filetype-1.2.0-py2.py3-none-any.whl.metadata (6.5 kB)\n",
      "Collecting lxml<6.0.0,>=4.0.0 (from docling<3.0.0,>=2.14.0->langchain-docling)\n",
      "  Using cached lxml-5.3.0-cp312-cp312-macosx_10_9_universal2.whl.metadata (3.8 kB)\n",
      "Collecting marko<3.0.0,>=2.1.2 (from docling<3.0.0,>=2.14.0->langchain-docling)\n",
      "  Using cached marko-2.1.2-py3-none-any.whl.metadata (4.5 kB)\n",
      "Collecting openpyxl<4.0.0,>=3.1.5 (from docling<3.0.0,>=2.14.0->langchain-docling)\n",
      "  Using cached openpyxl-3.1.5-py2.py3-none-any.whl.metadata (2.5 kB)\n",
      "Requirement already satisfied: pandas<3.0.0,>=2.1.4 in /Users/madhukanukula/WORKSPACE/GRANITE-COOKBOOK/granite-finance-cookbook/.venv/lib/python3.12/site-packages (from docling<3.0.0,>=2.14.0->langchain-docling) (2.2.3)\n",
      "Collecting pypdfium2<5.0.0,>=4.30.0 (from docling<3.0.0,>=2.14.0->langchain-docling)\n",
      "  Downloading pypdfium2-4.30.1-py3-none-macosx_11_0_arm64.whl.metadata (48 kB)\n",
      "Collecting python-docx<2.0.0,>=1.1.2 (from docling<3.0.0,>=2.14.0->langchain-docling)\n",
      "  Using cached python_docx-1.1.2-py3-none-any.whl.metadata (2.0 kB)\n",
      "Collecting python-pptx<2.0.0,>=1.0.2 (from docling<3.0.0,>=2.14.0->langchain-docling)\n",
      "  Using cached python_pptx-1.0.2-py3-none-any.whl.metadata (2.5 kB)\n",
      "Collecting rtree<2.0.0,>=1.3.0 (from docling<3.0.0,>=2.14.0->langchain-docling)\n",
      "  Using cached Rtree-1.3.0-py3-none-macosx_11_0_arm64.whl.metadata (2.1 kB)\n",
      "Collecting scipy<2.0.0,>=1.6.0 (from docling<3.0.0,>=2.14.0->langchain-docling)\n",
      "  Downloading scipy-1.15.1-cp312-cp312-macosx_14_0_arm64.whl.metadata (61 kB)\n",
      "Collecting typer<0.13.0,>=0.12.5 (from docling<3.0.0,>=2.14.0->langchain-docling)\n",
      "  Using cached typer-0.12.5-py3-none-any.whl.metadata (15 kB)\n",
      "Collecting filelock (from huggingface-hub>=0.23.0->langchain-huggingface)\n",
      "  Using cached filelock-3.16.1-py3-none-any.whl.metadata (2.9 kB)\n",
      "Collecting fsspec>=2023.5.0 (from huggingface-hub>=0.23.0->langchain-huggingface)\n",
      "  Downloading fsspec-2024.12.0-py3-none-any.whl.metadata (11 kB)\n",
      "Collecting tqdm>=4.42.1 (from huggingface-hub>=0.23.0->langchain-huggingface)\n",
      "  Using cached tqdm-4.67.1-py3-none-any.whl.metadata (57 kB)\n",
      "Requirement already satisfied: jsonpointer>=1.9 in /Users/madhukanukula/WORKSPACE/GRANITE-COOKBOOK/granite-finance-cookbook/.venv/lib/python3.12/site-packages (from jsonpatch<2.0,>=1.33->langchain-core) (3.0.0)\n",
      "Requirement already satisfied: httpx<1,>=0.23.0 in /Users/madhukanukula/WORKSPACE/GRANITE-COOKBOOK/granite-finance-cookbook/.venv/lib/python3.12/site-packages (from langsmith<0.2.0,>=0.1.112->langchain-community) (0.28.1)\n",
      "Requirement already satisfied: orjson<4.0.0,>=3.9.14 in /Users/madhukanukula/WORKSPACE/GRANITE-COOKBOOK/granite-finance-cookbook/.venv/lib/python3.12/site-packages (from langsmith<0.2.0,>=0.1.112->langchain-community) (3.10.14)\n",
      "Requirement already satisfied: requests-toolbelt<2.0.0,>=1.0.0 in /Users/madhukanukula/WORKSPACE/GRANITE-COOKBOOK/granite-finance-cookbook/.venv/lib/python3.12/site-packages (from langsmith<0.2.0,>=0.1.112->langchain-community) (1.0.0)\n",
      "Requirement already satisfied: annotated-types>=0.6.0 in /Users/madhukanukula/WORKSPACE/GRANITE-COOKBOOK/granite-finance-cookbook/.venv/lib/python3.12/site-packages (from pydantic<3.0.0,>=2.7.4->langchain-core) (0.7.0)\n",
      "Requirement already satisfied: pydantic-core==2.27.2 in /Users/madhukanukula/WORKSPACE/GRANITE-COOKBOOK/granite-finance-cookbook/.venv/lib/python3.12/site-packages (from pydantic<3.0.0,>=2.7.4->langchain-core) (2.27.2)\n",
      "Requirement already satisfied: python-dotenv>=0.21.0 in /Users/madhukanukula/WORKSPACE/GRANITE-COOKBOOK/granite-finance-cookbook/.venv/lib/python3.12/site-packages (from pydantic-settings<3.0.0,>=2.4.0->langchain-community) (1.0.1)\n",
      "Requirement already satisfied: charset-normalizer<4,>=2 in /Users/madhukanukula/WORKSPACE/GRANITE-COOKBOOK/granite-finance-cookbook/.venv/lib/python3.12/site-packages (from requests<3,>=2->langchain-community) (3.4.1)\n",
      "Requirement already satisfied: idna<4,>=2.5 in /Users/madhukanukula/WORKSPACE/GRANITE-COOKBOOK/granite-finance-cookbook/.venv/lib/python3.12/site-packages (from requests<3,>=2->langchain-community) (3.10)\n",
      "Requirement already satisfied: urllib3<3,>=1.21.1 in /Users/madhukanukula/WORKSPACE/GRANITE-COOKBOOK/granite-finance-cookbook/.venv/lib/python3.12/site-packages (from requests<3,>=2->langchain-community) (2.3.0)\n",
      "Collecting torch>=1.11.0 (from sentence-transformers>=2.6.0->langchain-huggingface)\n",
      "  Using cached torch-2.5.1-cp312-none-macosx_11_0_arm64.whl.metadata (28 kB)\n",
      "Collecting scikit-learn (from sentence-transformers>=2.6.0->langchain-huggingface)\n",
      "  Downloading scikit_learn-1.6.1-cp312-cp312-macosx_12_0_arm64.whl.metadata (31 kB)\n",
      "Collecting Pillow (from sentence-transformers>=2.6.0->langchain-huggingface)\n",
      "  Downloading pillow-11.1.0-cp312-cp312-macosx_11_0_arm64.whl.metadata (9.1 kB)\n",
      "Collecting regex!=2019.12.17 (from transformers>=4.39.0->langchain-huggingface)\n",
      "  Using cached regex-2024.11.6-cp312-cp312-macosx_11_0_arm64.whl.metadata (40 kB)\n",
      "Collecting safetensors>=0.4.1 (from transformers>=4.39.0->langchain-huggingface)\n",
      "  Downloading safetensors-0.5.2-cp38-abi3-macosx_11_0_arm64.whl.metadata (3.8 kB)\n",
      "Collecting soupsieve>1.2 (from beautifulsoup4<5.0.0,>=4.12.3->docling<3.0.0,>=2.14.0->langchain-docling)\n",
      "  Using cached soupsieve-2.6-py3-none-any.whl.metadata (4.6 kB)\n",
      "Collecting jsonref<2.0.0,>=1.1.0 (from docling-core<3.0.0,>=2.13.1->docling-core[chunking]<3.0.0,>=2.13.1->docling<3.0.0,>=2.14.0->langchain-docling)\n",
      "  Using cached jsonref-1.1.0-py3-none-any.whl.metadata (2.7 kB)\n",
      "Collecting jsonschema<5.0.0,>=4.16.0 (from docling-core<3.0.0,>=2.13.1->docling-core[chunking]<3.0.0,>=2.13.1->docling<3.0.0,>=2.14.0->langchain-docling)\n",
      "  Using cached jsonschema-4.23.0-py3-none-any.whl.metadata (7.9 kB)\n",
      "Collecting Pillow (from sentence-transformers>=2.6.0->langchain-huggingface)\n",
      "  Using cached pillow-10.4.0-cp312-cp312-macosx_11_0_arm64.whl.metadata (9.2 kB)\n",
      "Collecting tabulate<0.10.0,>=0.9.0 (from docling-core<3.0.0,>=2.13.1->docling-core[chunking]<3.0.0,>=2.13.1->docling<3.0.0,>=2.14.0->langchain-docling)\n",
      "  Using cached tabulate-0.9.0-py3-none-any.whl.metadata (34 kB)\n",
      "Collecting semchunk<3.0.0,>=2.2.0 (from docling-core[chunking]<3.0.0,>=2.13.1->docling<3.0.0,>=2.14.0->langchain-docling)\n",
      "  Downloading semchunk-2.2.2-py3-none-any.whl.metadata (10 kB)\n",
      "Collecting jsonlines<4.0.0,>=3.1.0 (from docling-ibm-models<4.0.0,>=3.1.0->docling<3.0.0,>=2.14.0->langchain-docling)\n",
      "  Using cached jsonlines-3.1.0-py3-none-any.whl.metadata (1.7 kB)\n",
      "Collecting opencv-python-headless<5.0.0.0,>=4.6.0.66 (from docling-ibm-models<4.0.0,>=3.1.0->docling<3.0.0,>=2.14.0->langchain-docling)\n",
      "  Using cached opencv_python_headless-4.10.0.84-cp37-abi3-macosx_11_0_arm64.whl.metadata (20 kB)\n",
      "Collecting torchvision<1,>=0 (from docling-ibm-models<4.0.0,>=3.1.0->docling<3.0.0,>=2.14.0->langchain-docling)\n",
      "  Using cached torchvision-0.20.1-cp312-cp312-macosx_11_0_arm64.whl.metadata (6.1 kB)\n",
      "Collecting autoflake<3.0.0,>=2.3.1 (from docling-parse<4.0.0,>=3.0.0->docling<3.0.0,>=2.14.0->langchain-docling)\n",
      "  Using cached autoflake-2.3.1-py3-none-any.whl.metadata (7.6 kB)\n",
      "Collecting scikit-image (from easyocr<2.0,>=1.7->docling<3.0.0,>=2.14.0->langchain-docling)\n",
      "  Using cached scikit_image-0.25.0-cp312-cp312-macosx_12_0_arm64.whl.metadata (14 kB)\n",
      "Collecting python-bidi (from easyocr<2.0,>=1.7->docling<3.0.0,>=2.14.0->langchain-docling)\n",
      "  Using cached python_bidi-0.6.3-cp312-cp312-macosx_11_0_arm64.whl.metadata (4.9 kB)\n",
      "Collecting Shapely (from easyocr<2.0,>=1.7->docling<3.0.0,>=2.14.0->langchain-docling)\n",
      "  Using cached shapely-2.0.6-cp312-cp312-macosx_11_0_arm64.whl.metadata (7.0 kB)\n",
      "Collecting pyclipper (from easyocr<2.0,>=1.7->docling<3.0.0,>=2.14.0->langchain-docling)\n",
      "  Using cached pyclipper-1.3.0.post6-cp312-cp312-macosx_10_13_universal2.whl.metadata (9.0 kB)\n",
      "Collecting ninja (from easyocr<2.0,>=1.7->docling<3.0.0,>=2.14.0->langchain-docling)\n",
      "  Downloading ninja-1.11.1.3-py3-none-macosx_10_9_universal2.whl.metadata (5.3 kB)\n",
      "Requirement already satisfied: anyio in /Users/madhukanukula/WORKSPACE/GRANITE-COOKBOOK/granite-finance-cookbook/.venv/lib/python3.12/site-packages (from httpx<1,>=0.23.0->langsmith<0.2.0,>=0.1.112->langchain-community) (4.8.0)\n",
      "Requirement already satisfied: httpcore==1.* in /Users/madhukanukula/WORKSPACE/GRANITE-COOKBOOK/granite-finance-cookbook/.venv/lib/python3.12/site-packages (from httpx<1,>=0.23.0->langsmith<0.2.0,>=0.1.112->langchain-community) (1.0.7)\n",
      "Requirement already satisfied: h11<0.15,>=0.13 in /Users/madhukanukula/WORKSPACE/GRANITE-COOKBOOK/granite-finance-cookbook/.venv/lib/python3.12/site-packages (from httpcore==1.*->httpx<1,>=0.23.0->langsmith<0.2.0,>=0.1.112->langchain-community) (0.14.0)\n",
      "Collecting et-xmlfile (from openpyxl<4.0.0,>=3.1.5->docling<3.0.0,>=2.14.0->langchain-docling)\n",
      "  Using cached et_xmlfile-2.0.0-py3-none-any.whl.metadata (2.7 kB)\n",
      "Requirement already satisfied: python-dateutil>=2.8.2 in /Users/madhukanukula/WORKSPACE/GRANITE-COOKBOOK/granite-finance-cookbook/.venv/lib/python3.12/site-packages (from pandas<3.0.0,>=2.1.4->docling<3.0.0,>=2.14.0->langchain-docling) (2.9.0.post0)\n",
      "Requirement already satisfied: pytz>=2020.1 in /Users/madhukanukula/WORKSPACE/GRANITE-COOKBOOK/granite-finance-cookbook/.venv/lib/python3.12/site-packages (from pandas<3.0.0,>=2.1.4->docling<3.0.0,>=2.14.0->langchain-docling) (2024.2)\n",
      "Requirement already satisfied: tzdata>=2022.7 in /Users/madhukanukula/WORKSPACE/GRANITE-COOKBOOK/granite-finance-cookbook/.venv/lib/python3.12/site-packages (from pandas<3.0.0,>=2.1.4->docling<3.0.0,>=2.14.0->langchain-docling) (2024.2)\n",
      "Collecting XlsxWriter>=0.5.7 (from python-pptx<2.0.0,>=1.0.2->docling<3.0.0,>=2.14.0->langchain-docling)\n",
      "  Using cached XlsxWriter-3.2.0-py3-none-any.whl.metadata (2.6 kB)\n",
      "Collecting networkx (from torch>=1.11.0->sentence-transformers>=2.6.0->langchain-huggingface)\n",
      "  Using cached networkx-3.4.2-py3-none-any.whl.metadata (6.3 kB)\n",
      "Collecting jinja2 (from torch>=1.11.0->sentence-transformers>=2.6.0->langchain-huggingface)\n",
      "  Downloading jinja2-3.1.5-py3-none-any.whl.metadata (2.6 kB)\n",
      "Collecting setuptools (from torch>=1.11.0->sentence-transformers>=2.6.0->langchain-huggingface)\n",
      "  Using cached setuptools-75.8.0-py3-none-any.whl.metadata (6.7 kB)\n",
      "Collecting sympy==1.13.1 (from torch>=1.11.0->sentence-transformers>=2.6.0->langchain-huggingface)\n",
      "  Using cached sympy-1.13.1-py3-none-any.whl.metadata (12 kB)\n",
      "Collecting mpmath<1.4,>=1.1.0 (from sympy==1.13.1->torch>=1.11.0->sentence-transformers>=2.6.0->langchain-huggingface)\n",
      "  Using cached mpmath-1.3.0-py3-none-any.whl.metadata (8.6 kB)\n",
      "Collecting click>=8.0.0 (from typer<0.13.0,>=0.12.5->docling<3.0.0,>=2.14.0->langchain-docling)\n",
      "  Downloading click-8.1.8-py3-none-any.whl.metadata (2.3 kB)\n",
      "Collecting shellingham>=1.3.0 (from typer<0.13.0,>=0.12.5->docling<3.0.0,>=2.14.0->langchain-docling)\n",
      "  Using cached shellingham-1.5.4-py2.py3-none-any.whl.metadata (3.5 kB)\n",
      "Collecting rich>=10.11.0 (from typer<0.13.0,>=0.12.5->docling<3.0.0,>=2.14.0->langchain-docling)\n",
      "  Using cached rich-13.9.4-py3-none-any.whl.metadata (18 kB)\n",
      "Requirement already satisfied: mypy-extensions>=0.3.0 in /Users/madhukanukula/WORKSPACE/GRANITE-COOKBOOK/granite-finance-cookbook/.venv/lib/python3.12/site-packages (from typing-inspect<1,>=0.4.0->dataclasses-json<0.7,>=0.5.7->langchain-community) (1.0.0)\n",
      "Collecting joblib>=1.2.0 (from scikit-learn->sentence-transformers>=2.6.0->langchain-huggingface)\n",
      "  Using cached joblib-1.4.2-py3-none-any.whl.metadata (5.4 kB)\n",
      "Collecting threadpoolctl>=3.1.0 (from scikit-learn->sentence-transformers>=2.6.0->langchain-huggingface)\n",
      "  Using cached threadpoolctl-3.5.0-py3-none-any.whl.metadata (13 kB)\n",
      "Collecting pyflakes>=3.0.0 (from autoflake<3.0.0,>=2.3.1->docling-parse<4.0.0,>=3.0.0->docling<3.0.0,>=2.14.0->langchain-docling)\n",
      "  Using cached pyflakes-3.2.0-py2.py3-none-any.whl.metadata (3.5 kB)\n",
      "Collecting jsonschema-specifications>=2023.03.6 (from jsonschema<5.0.0,>=4.16.0->docling-core<3.0.0,>=2.13.1->docling-core[chunking]<3.0.0,>=2.13.1->docling<3.0.0,>=2.14.0->langchain-docling)\n",
      "  Using cached jsonschema_specifications-2024.10.1-py3-none-any.whl.metadata (3.0 kB)\n",
      "Collecting referencing>=0.28.4 (from jsonschema<5.0.0,>=4.16.0->docling-core<3.0.0,>=2.13.1->docling-core[chunking]<3.0.0,>=2.13.1->docling<3.0.0,>=2.14.0->langchain-docling)\n",
      "  Using cached referencing-0.35.1-py3-none-any.whl.metadata (2.8 kB)\n",
      "Collecting rpds-py>=0.7.1 (from jsonschema<5.0.0,>=4.16.0->docling-core<3.0.0,>=2.13.1->docling-core[chunking]<3.0.0,>=2.13.1->docling<3.0.0,>=2.14.0->langchain-docling)\n",
      "  Using cached rpds_py-0.22.3-cp312-cp312-macosx_11_0_arm64.whl.metadata (4.2 kB)\n",
      "Requirement already satisfied: six>=1.5 in /Users/madhukanukula/WORKSPACE/GRANITE-COOKBOOK/granite-finance-cookbook/.venv/lib/python3.12/site-packages (from python-dateutil>=2.8.2->pandas<3.0.0,>=2.1.4->docling<3.0.0,>=2.14.0->langchain-docling) (1.17.0)\n",
      "Collecting markdown-it-py>=2.2.0 (from rich>=10.11.0->typer<0.13.0,>=0.12.5->docling<3.0.0,>=2.14.0->langchain-docling)\n",
      "  Using cached markdown_it_py-3.0.0-py3-none-any.whl.metadata (6.9 kB)\n",
      "Requirement already satisfied: pygments<3.0.0,>=2.13.0 in /Users/madhukanukula/WORKSPACE/GRANITE-COOKBOOK/granite-finance-cookbook/.venv/lib/python3.12/site-packages (from rich>=10.11.0->typer<0.13.0,>=0.12.5->docling<3.0.0,>=2.14.0->langchain-docling) (2.19.1)\n",
      "Collecting mpire[dill] (from semchunk<3.0.0,>=2.2.0->docling-core[chunking]<3.0.0,>=2.13.1->docling<3.0.0,>=2.14.0->langchain-docling)\n",
      "  Using cached mpire-2.10.2-py3-none-any.whl.metadata (14 kB)\n",
      "Requirement already satisfied: sniffio>=1.1 in /Users/madhukanukula/WORKSPACE/GRANITE-COOKBOOK/granite-finance-cookbook/.venv/lib/python3.12/site-packages (from anyio->httpx<1,>=0.23.0->langsmith<0.2.0,>=0.1.112->langchain-community) (1.3.1)\n",
      "Collecting MarkupSafe>=2.0 (from jinja2->torch>=1.11.0->sentence-transformers>=2.6.0->langchain-huggingface)\n",
      "  Using cached MarkupSafe-3.0.2-cp312-cp312-macosx_11_0_arm64.whl.metadata (4.0 kB)\n",
      "Collecting imageio!=2.35.0,>=2.33 (from scikit-image->easyocr<2.0,>=1.7->docling<3.0.0,>=2.14.0->langchain-docling)\n",
      "  Using cached imageio-2.36.1-py3-none-any.whl.metadata (5.2 kB)\n",
      "Collecting tifffile>=2022.8.12 (from scikit-image->easyocr<2.0,>=1.7->docling<3.0.0,>=2.14.0->langchain-docling)\n",
      "  Downloading tifffile-2025.1.10-py3-none-any.whl.metadata (31 kB)\n",
      "Collecting lazy-loader>=0.4 (from scikit-image->easyocr<2.0,>=1.7->docling<3.0.0,>=2.14.0->langchain-docling)\n",
      "  Using cached lazy_loader-0.4-py3-none-any.whl.metadata (7.6 kB)\n",
      "Collecting mdurl~=0.1 (from markdown-it-py>=2.2.0->rich>=10.11.0->typer<0.13.0,>=0.12.5->docling<3.0.0,>=2.14.0->langchain-docling)\n",
      "  Using cached mdurl-0.1.2-py3-none-any.whl.metadata (1.6 kB)\n",
      "Collecting multiprocess>=0.70.15 (from mpire[dill]->semchunk<3.0.0,>=2.2.0->docling-core[chunking]<3.0.0,>=2.13.1->docling<3.0.0,>=2.14.0->langchain-docling)\n",
      "  Using cached multiprocess-0.70.17-py312-none-any.whl.metadata (7.2 kB)\n",
      "Collecting dill>=0.3.9 (from multiprocess>=0.70.15->mpire[dill]->semchunk<3.0.0,>=2.2.0->docling-core[chunking]<3.0.0,>=2.13.1->docling<3.0.0,>=2.14.0->langchain-docling)\n",
      "  Using cached dill-0.3.9-py3-none-any.whl.metadata (10 kB)\n",
      "Downloading langchain_community-0.3.14-py3-none-any.whl (2.5 MB)\n",
      "\u001b[2K   \u001b[90m━━━━━━━━━━━━━━━━━━━━━━━━━━━━━━━━━━━━━━━━\u001b[0m \u001b[32m2.5/2.5 MB\u001b[0m \u001b[31m3.4 MB/s\u001b[0m eta \u001b[36m0:00:00\u001b[0ma \u001b[36m0:00:01\u001b[0m\n",
      "\u001b[?25hDownloading langchain_docling-0.2.0-py3-none-any.whl (4.8 kB)\n",
      "Downloading langchain_core-0.3.29-py3-none-any.whl (411 kB)\n",
      "Using cached langchain_huggingface-0.1.2-py3-none-any.whl (21 kB)\n",
      "Downloading langchain-0.3.14-py3-none-any.whl (1.0 MB)\n",
      "\u001b[2K   \u001b[90m━━━━━━━━━━━━━━━━━━━━━━━━━━━━━━━━━━━━━━━━\u001b[0m \u001b[32m1.0/1.0 MB\u001b[0m \u001b[31m11.8 MB/s\u001b[0m eta \u001b[36m0:00:00\u001b[0m\n",
      "\u001b[?25hDownloading docling-2.15.1-py3-none-any.whl (113 kB)\n",
      "Using cached httpx_sse-0.4.0-py3-none-any.whl (7.8 kB)\n",
      "Downloading huggingface_hub-0.27.1-py3-none-any.whl (450 kB)\n",
      "Downloading langchain_text_splitters-0.3.5-py3-none-any.whl (31 kB)\n",
      "Downloading pydantic_settings-2.7.1-py3-none-any.whl (29 kB)\n",
      "Using cached sentence_transformers-3.3.1-py3-none-any.whl (268 kB)\n",
      "Using cached tokenizers-0.21.0-cp39-abi3-macosx_11_0_arm64.whl (2.6 MB)\n",
      "Downloading transformers-4.48.0-py3-none-any.whl (9.7 MB)\n",
      "\u001b[2K   \u001b[90m━━━━━━━━━━━━━━━━━━━━━━━━━━━━━━━━━━━━━━━━\u001b[0m \u001b[32m9.7/9.7 MB\u001b[0m \u001b[31m15.0 MB/s\u001b[0m eta \u001b[36m0:00:00\u001b[0m00:01\u001b[0m00:01\u001b[0m\n",
      "\u001b[?25hUsing cached beautifulsoup4-4.12.3-py3-none-any.whl (147 kB)\n",
      "Using cached deepsearch_glm-1.0.0-cp312-cp312-macosx_14_0_arm64.whl (5.9 MB)\n",
      "Downloading docling_core-2.14.0-py3-none-any.whl (91 kB)\n",
      "Downloading docling_ibm_models-3.1.2-py3-none-any.whl (65 kB)\n",
      "Using cached docling_parse-3.0.0-cp312-cp312-macosx_14_0_arm64.whl (21.9 MB)\n",
      "Using cached easyocr-1.7.2-py3-none-any.whl (2.9 MB)\n",
      "Using cached filetype-1.2.0-py2.py3-none-any.whl (19 kB)\n",
      "Downloading fsspec-2024.12.0-py3-none-any.whl (183 kB)\n",
      "Using cached lxml-5.3.0-cp312-cp312-macosx_10_9_universal2.whl (8.2 MB)\n",
      "Using cached marko-2.1.2-py3-none-any.whl (42 kB)\n",
      "Using cached openpyxl-3.1.5-py2.py3-none-any.whl (250 kB)\n",
      "Using cached pillow-10.4.0-cp312-cp312-macosx_11_0_arm64.whl (3.4 MB)\n",
      "Downloading pypdfium2-4.30.1-py3-none-macosx_11_0_arm64.whl (2.8 MB)\n",
      "\u001b[2K   \u001b[90m━━━━━━━━━━━━━━━━━━━━━━━━━━━━━━━━━━━━━━━━\u001b[0m \u001b[32m2.8/2.8 MB\u001b[0m \u001b[31m18.2 MB/s\u001b[0m eta \u001b[36m0:00:00\u001b[0m\n",
      "\u001b[?25hUsing cached python_docx-1.1.2-py3-none-any.whl (244 kB)\n",
      "Using cached python_pptx-1.0.2-py3-none-any.whl (472 kB)\n",
      "Using cached regex-2024.11.6-cp312-cp312-macosx_11_0_arm64.whl (284 kB)\n",
      "Using cached Rtree-1.3.0-py3-none-macosx_11_0_arm64.whl (432 kB)\n",
      "Downloading safetensors-0.5.2-cp38-abi3-macosx_11_0_arm64.whl (408 kB)\n",
      "Downloading scipy-1.15.1-cp312-cp312-macosx_14_0_arm64.whl (24.9 MB)\n",
      "\u001b[2K   \u001b[90m━━━━━━━━━━━━━━━━━━━━━━━━━━━━━━━━━━━━━━━━\u001b[0m \u001b[32m24.9/24.9 MB\u001b[0m \u001b[31m13.6 MB/s\u001b[0m eta \u001b[36m0:00:00\u001b[0ma \u001b[36m0:00:01\u001b[0m\n",
      "\u001b[?25hUsing cached torch-2.5.1-cp312-none-macosx_11_0_arm64.whl (63.9 MB)\n",
      "Using cached sympy-1.13.1-py3-none-any.whl (6.2 MB)\n",
      "Using cached tqdm-4.67.1-py3-none-any.whl (78 kB)\n",
      "Using cached typer-0.12.5-py3-none-any.whl (47 kB)\n",
      "Using cached filelock-3.16.1-py3-none-any.whl (16 kB)\n",
      "Downloading scikit_learn-1.6.1-cp312-cp312-macosx_12_0_arm64.whl (11.2 MB)\n",
      "\u001b[2K   \u001b[90m━━━━━━━━━━━━━━━━━━━━━━━━━━━━━━━━━━━━━━━━\u001b[0m \u001b[32m11.2/11.2 MB\u001b[0m \u001b[31m15.0 MB/s\u001b[0m eta \u001b[36m0:00:00\u001b[0m \u001b[36m0:00:01\u001b[0m\n",
      "\u001b[?25hUsing cached autoflake-2.3.1-py3-none-any.whl (32 kB)\n",
      "Downloading click-8.1.8-py3-none-any.whl (98 kB)\n",
      "Using cached joblib-1.4.2-py3-none-any.whl (301 kB)\n",
      "Using cached jsonlines-3.1.0-py3-none-any.whl (8.6 kB)\n",
      "Using cached jsonref-1.1.0-py3-none-any.whl (9.4 kB)\n",
      "Using cached jsonschema-4.23.0-py3-none-any.whl (88 kB)\n",
      "Using cached opencv_python_headless-4.10.0.84-cp37-abi3-macosx_11_0_arm64.whl (54.8 MB)\n",
      "Using cached rich-13.9.4-py3-none-any.whl (242 kB)\n",
      "Downloading semchunk-2.2.2-py3-none-any.whl (10 kB)\n",
      "Using cached shellingham-1.5.4-py2.py3-none-any.whl (9.8 kB)\n",
      "Using cached soupsieve-2.6-py3-none-any.whl (36 kB)\n",
      "Using cached tabulate-0.9.0-py3-none-any.whl (35 kB)\n",
      "Using cached threadpoolctl-3.5.0-py3-none-any.whl (18 kB)\n",
      "Using cached torchvision-0.20.1-cp312-cp312-macosx_11_0_arm64.whl (1.8 MB)\n",
      "Using cached XlsxWriter-3.2.0-py3-none-any.whl (159 kB)\n",
      "Using cached et_xmlfile-2.0.0-py3-none-any.whl (18 kB)\n",
      "Downloading jinja2-3.1.5-py3-none-any.whl (134 kB)\n",
      "Using cached networkx-3.4.2-py3-none-any.whl (1.7 MB)\n",
      "Downloading ninja-1.11.1.3-py3-none-macosx_10_9_universal2.whl (279 kB)\n",
      "Using cached pyclipper-1.3.0.post6-cp312-cp312-macosx_10_13_universal2.whl (270 kB)\n",
      "Using cached python_bidi-0.6.3-cp312-cp312-macosx_11_0_arm64.whl (252 kB)\n",
      "Using cached scikit_image-0.25.0-cp312-cp312-macosx_12_0_arm64.whl (13.2 MB)\n",
      "Using cached setuptools-75.8.0-py3-none-any.whl (1.2 MB)\n",
      "Using cached shapely-2.0.6-cp312-cp312-macosx_11_0_arm64.whl (1.3 MB)\n",
      "Using cached imageio-2.36.1-py3-none-any.whl (315 kB)\n",
      "Using cached jsonschema_specifications-2024.10.1-py3-none-any.whl (18 kB)\n",
      "Using cached lazy_loader-0.4-py3-none-any.whl (12 kB)\n",
      "Using cached markdown_it_py-3.0.0-py3-none-any.whl (87 kB)\n",
      "Using cached MarkupSafe-3.0.2-cp312-cp312-macosx_11_0_arm64.whl (12 kB)\n",
      "Using cached mpmath-1.3.0-py3-none-any.whl (536 kB)\n",
      "Using cached pyflakes-3.2.0-py2.py3-none-any.whl (62 kB)\n",
      "Using cached referencing-0.35.1-py3-none-any.whl (26 kB)\n",
      "Using cached rpds_py-0.22.3-cp312-cp312-macosx_11_0_arm64.whl (342 kB)\n",
      "Downloading tifffile-2025.1.10-py3-none-any.whl (227 kB)\n",
      "Using cached mdurl-0.1.2-py3-none-any.whl (10.0 kB)\n",
      "Using cached multiprocess-0.70.17-py312-none-any.whl (147 kB)\n",
      "Using cached mpire-2.10.2-py3-none-any.whl (272 kB)\n",
      "Using cached dill-0.3.9-py3-none-any.whl (119 kB)\n",
      "Installing collected packages: python-bidi, pyclipper, mpmath, filetype, XlsxWriter, tqdm, tifffile, threadpoolctl, tabulate, sympy, soupsieve, shellingham, Shapely, setuptools, scipy, safetensors, rtree, rpds-py, regex, pypdfium2, pyflakes, Pillow, opencv-python-headless, ninja, networkx, mdurl, MarkupSafe, marko, lxml, lazy-loader, jsonref, jsonlines, joblib, httpx-sse, fsspec, filelock, et-xmlfile, dill, deepsearch-glm, click, scikit-learn, referencing, python-pptx, python-docx, openpyxl, multiprocess, mpire, markdown-it-py, jinja2, imageio, huggingface-hub, beautifulsoup4, autoflake, torch, tokenizers, scikit-image, rich, pydantic-settings, jsonschema-specifications, docling-parse, typer, transformers, torchvision, semchunk, langchain-core, jsonschema, sentence-transformers, langchain-text-splitters, easyocr, docling-ibm-models, docling-core, langchain-huggingface, langchain, langchain-community, docling, langchain-docling\n",
      "  Attempting uninstall: langchain-core\n",
      "    Found existing installation: langchain-core 0.2.43\n",
      "    Uninstalling langchain-core-0.2.43:\n",
      "      Successfully uninstalled langchain-core-0.2.43\n",
      "  Attempting uninstall: langchain-text-splitters\n",
      "    Found existing installation: langchain-text-splitters 0.2.4\n",
      "    Uninstalling langchain-text-splitters-0.2.4:\n",
      "      Successfully uninstalled langchain-text-splitters-0.2.4\n",
      "  Attempting uninstall: langchain\n",
      "    Found existing installation: langchain 0.2.17\n",
      "    Uninstalling langchain-0.2.17:\n",
      "      Successfully uninstalled langchain-0.2.17\n",
      "  Attempting uninstall: langchain-community\n",
      "    Found existing installation: langchain-community 0.2.19\n",
      "    Uninstalling langchain-community-0.2.19:\n",
      "      Successfully uninstalled langchain-community-0.2.19\n",
      "Successfully installed MarkupSafe-3.0.2 Pillow-10.4.0 Shapely-2.0.6 XlsxWriter-3.2.0 autoflake-2.3.1 beautifulsoup4-4.12.3 click-8.1.8 deepsearch-glm-1.0.0 dill-0.3.9 docling-2.15.1 docling-core-2.14.0 docling-ibm-models-3.1.2 docling-parse-3.0.0 easyocr-1.7.2 et-xmlfile-2.0.0 filelock-3.16.1 filetype-1.2.0 fsspec-2024.12.0 httpx-sse-0.4.0 huggingface-hub-0.27.1 imageio-2.36.1 jinja2-3.1.5 joblib-1.4.2 jsonlines-3.1.0 jsonref-1.1.0 jsonschema-4.23.0 jsonschema-specifications-2024.10.1 langchain-0.3.14 langchain-community-0.3.14 langchain-core-0.3.29 langchain-docling-0.2.0 langchain-huggingface-0.1.2 langchain-text-splitters-0.3.5 lazy-loader-0.4 lxml-5.3.0 markdown-it-py-3.0.0 marko-2.1.2 mdurl-0.1.2 mpire-2.10.2 mpmath-1.3.0 multiprocess-0.70.17 networkx-3.4.2 ninja-1.11.1.3 opencv-python-headless-4.10.0.84 openpyxl-3.1.5 pyclipper-1.3.0.post6 pydantic-settings-2.7.1 pyflakes-3.2.0 pypdfium2-4.30.1 python-bidi-0.6.3 python-docx-1.1.2 python-pptx-1.0.2 referencing-0.35.1 regex-2024.11.6 rich-13.9.4 rpds-py-0.22.3 rtree-1.3.0 safetensors-0.5.2 scikit-image-0.25.0 scikit-learn-1.6.1 scipy-1.15.1 semchunk-2.2.2 sentence-transformers-3.3.1 setuptools-75.8.0 shellingham-1.5.4 soupsieve-2.6 sympy-1.13.1 tabulate-0.9.0 threadpoolctl-3.5.0 tifffile-2025.1.10 tokenizers-0.21.0 torch-2.5.1 torchvision-0.20.1 tqdm-4.67.1 transformers-4.48.0 typer-0.12.5\n",
      "\n",
      "\u001b[1m[\u001b[0m\u001b[34;49mnotice\u001b[0m\u001b[1;39;49m]\u001b[0m\u001b[39;49m A new release of pip is available: \u001b[0m\u001b[31;49m24.2\u001b[0m\u001b[39;49m -> \u001b[0m\u001b[32;49m24.3.1\u001b[0m\n",
      "\u001b[1m[\u001b[0m\u001b[34;49mnotice\u001b[0m\u001b[1;39;49m]\u001b[0m\u001b[39;49m To update, run: \u001b[0m\u001b[32;49mpip install --upgrade pip\u001b[0m\n",
      "Requirement already satisfied: pydantic in /Users/madhukanukula/WORKSPACE/GRANITE-COOKBOOK/granite-finance-cookbook/.venv/lib/python3.12/site-packages (2.10.5)\n",
      "Requirement already satisfied: python-dotenv in /Users/madhukanukula/WORKSPACE/GRANITE-COOKBOOK/granite-finance-cookbook/.venv/lib/python3.12/site-packages (1.0.1)\n",
      "Requirement already satisfied: annotated-types>=0.6.0 in /Users/madhukanukula/WORKSPACE/GRANITE-COOKBOOK/granite-finance-cookbook/.venv/lib/python3.12/site-packages (from pydantic) (0.7.0)\n",
      "Requirement already satisfied: pydantic-core==2.27.2 in /Users/madhukanukula/WORKSPACE/GRANITE-COOKBOOK/granite-finance-cookbook/.venv/lib/python3.12/site-packages (from pydantic) (2.27.2)\n",
      "Requirement already satisfied: typing-extensions>=4.12.2 in /Users/madhukanukula/WORKSPACE/GRANITE-COOKBOOK/granite-finance-cookbook/.venv/lib/python3.12/site-packages (from pydantic) (4.12.2)\n",
      "\n",
      "\u001b[1m[\u001b[0m\u001b[34;49mnotice\u001b[0m\u001b[1;39;49m]\u001b[0m\u001b[39;49m A new release of pip is available: \u001b[0m\u001b[31;49m24.2\u001b[0m\u001b[39;49m -> \u001b[0m\u001b[32;49m24.3.1\u001b[0m\n",
      "\u001b[1m[\u001b[0m\u001b[34;49mnotice\u001b[0m\u001b[1;39;49m]\u001b[0m\u001b[39;49m To update, run: \u001b[0m\u001b[32;49mpip install --upgrade pip\u001b[0m\n",
      "Collecting git+https://github.com/ibm-granite-community/utils\n",
      "  Cloning https://github.com/ibm-granite-community/utils to /private/var/folders/bb/yhn_xpt54b10d138nmjsk8x40000gn/T/pip-req-build-frh5noaj\n",
      "  Running command git clone --filter=blob:none --quiet https://github.com/ibm-granite-community/utils /private/var/folders/bb/yhn_xpt54b10d138nmjsk8x40000gn/T/pip-req-build-frh5noaj\n",
      "  Resolved https://github.com/ibm-granite-community/utils to commit cb77088230aa59c48725b0ade23460a7e3672ae6\n",
      "  Installing build dependencies ... \u001b[?25ldone\n",
      "\u001b[?25h  Getting requirements to build wheel ... \u001b[?25ldone\n",
      "\u001b[?25h  Preparing metadata (pyproject.toml) ... \u001b[?25ldone\n",
      "\u001b[?25hCollecting langchain_community<0.3.0\n",
      "  Using cached langchain_community-0.2.19-py3-none-any.whl.metadata (2.7 kB)\n",
      "Requirement already satisfied: replicate in /Users/madhukanukula/WORKSPACE/GRANITE-COOKBOOK/granite-finance-cookbook/.venv/lib/python3.12/site-packages (1.0.4)\n",
      "Requirement already satisfied: python-dotenv in /Users/madhukanukula/WORKSPACE/GRANITE-COOKBOOK/granite-finance-cookbook/.venv/lib/python3.12/site-packages (from ibm-granite-community-utils==0.1.dev48) (1.0.1)\n",
      "Requirement already satisfied: PyYAML>=5.3 in /Users/madhukanukula/WORKSPACE/GRANITE-COOKBOOK/granite-finance-cookbook/.venv/lib/python3.12/site-packages (from langchain_community<0.3.0) (6.0.2)\n",
      "Requirement already satisfied: SQLAlchemy<3,>=1.4 in /Users/madhukanukula/WORKSPACE/GRANITE-COOKBOOK/granite-finance-cookbook/.venv/lib/python3.12/site-packages (from langchain_community<0.3.0) (2.0.37)\n",
      "Requirement already satisfied: aiohttp<4.0.0,>=3.8.3 in /Users/madhukanukula/WORKSPACE/GRANITE-COOKBOOK/granite-finance-cookbook/.venv/lib/python3.12/site-packages (from langchain_community<0.3.0) (3.11.11)\n",
      "Requirement already satisfied: dataclasses-json<0.7,>=0.5.7 in /Users/madhukanukula/WORKSPACE/GRANITE-COOKBOOK/granite-finance-cookbook/.venv/lib/python3.12/site-packages (from langchain_community<0.3.0) (0.6.7)\n",
      "Collecting langchain<0.3.0,>=0.2.17 (from langchain_community<0.3.0)\n",
      "  Using cached langchain-0.2.17-py3-none-any.whl.metadata (7.1 kB)\n",
      "Collecting langchain-core<0.3.0,>=0.2.43 (from langchain_community<0.3.0)\n",
      "  Using cached langchain_core-0.2.43-py3-none-any.whl.metadata (6.2 kB)\n",
      "Requirement already satisfied: langsmith<0.2.0,>=0.1.112 in /Users/madhukanukula/WORKSPACE/GRANITE-COOKBOOK/granite-finance-cookbook/.venv/lib/python3.12/site-packages (from langchain_community<0.3.0) (0.1.147)\n",
      "Requirement already satisfied: numpy<2.0.0,>=1.26.0 in /Users/madhukanukula/WORKSPACE/GRANITE-COOKBOOK/granite-finance-cookbook/.venv/lib/python3.12/site-packages (from langchain_community<0.3.0) (1.26.4)\n",
      "Requirement already satisfied: requests<3,>=2 in /Users/madhukanukula/WORKSPACE/GRANITE-COOKBOOK/granite-finance-cookbook/.venv/lib/python3.12/site-packages (from langchain_community<0.3.0) (2.32.3)\n",
      "Requirement already satisfied: tenacity!=8.4.0,<9.0.0,>=8.1.0 in /Users/madhukanukula/WORKSPACE/GRANITE-COOKBOOK/granite-finance-cookbook/.venv/lib/python3.12/site-packages (from langchain_community<0.3.0) (8.5.0)\n",
      "Requirement already satisfied: httpx<1,>=0.21.0 in /Users/madhukanukula/WORKSPACE/GRANITE-COOKBOOK/granite-finance-cookbook/.venv/lib/python3.12/site-packages (from replicate) (0.28.1)\n",
      "Requirement already satisfied: packaging in /Users/madhukanukula/WORKSPACE/GRANITE-COOKBOOK/granite-finance-cookbook/.venv/lib/python3.12/site-packages (from replicate) (24.2)\n",
      "Requirement already satisfied: pydantic>1.10.7 in /Users/madhukanukula/WORKSPACE/GRANITE-COOKBOOK/granite-finance-cookbook/.venv/lib/python3.12/site-packages (from replicate) (2.10.5)\n",
      "Requirement already satisfied: typing_extensions>=4.5.0 in /Users/madhukanukula/WORKSPACE/GRANITE-COOKBOOK/granite-finance-cookbook/.venv/lib/python3.12/site-packages (from replicate) (4.12.2)\n",
      "Requirement already satisfied: aiohappyeyeballs>=2.3.0 in /Users/madhukanukula/WORKSPACE/GRANITE-COOKBOOK/granite-finance-cookbook/.venv/lib/python3.12/site-packages (from aiohttp<4.0.0,>=3.8.3->langchain_community<0.3.0) (2.4.4)\n",
      "Requirement already satisfied: aiosignal>=1.1.2 in /Users/madhukanukula/WORKSPACE/GRANITE-COOKBOOK/granite-finance-cookbook/.venv/lib/python3.12/site-packages (from aiohttp<4.0.0,>=3.8.3->langchain_community<0.3.0) (1.3.2)\n",
      "Requirement already satisfied: attrs>=17.3.0 in /Users/madhukanukula/WORKSPACE/GRANITE-COOKBOOK/granite-finance-cookbook/.venv/lib/python3.12/site-packages (from aiohttp<4.0.0,>=3.8.3->langchain_community<0.3.0) (24.3.0)\n",
      "Requirement already satisfied: frozenlist>=1.1.1 in /Users/madhukanukula/WORKSPACE/GRANITE-COOKBOOK/granite-finance-cookbook/.venv/lib/python3.12/site-packages (from aiohttp<4.0.0,>=3.8.3->langchain_community<0.3.0) (1.5.0)\n",
      "Requirement already satisfied: multidict<7.0,>=4.5 in /Users/madhukanukula/WORKSPACE/GRANITE-COOKBOOK/granite-finance-cookbook/.venv/lib/python3.12/site-packages (from aiohttp<4.0.0,>=3.8.3->langchain_community<0.3.0) (6.1.0)\n",
      "Requirement already satisfied: propcache>=0.2.0 in /Users/madhukanukula/WORKSPACE/GRANITE-COOKBOOK/granite-finance-cookbook/.venv/lib/python3.12/site-packages (from aiohttp<4.0.0,>=3.8.3->langchain_community<0.3.0) (0.2.1)\n",
      "Requirement already satisfied: yarl<2.0,>=1.17.0 in /Users/madhukanukula/WORKSPACE/GRANITE-COOKBOOK/granite-finance-cookbook/.venv/lib/python3.12/site-packages (from aiohttp<4.0.0,>=3.8.3->langchain_community<0.3.0) (1.18.3)\n",
      "Requirement already satisfied: marshmallow<4.0.0,>=3.18.0 in /Users/madhukanukula/WORKSPACE/GRANITE-COOKBOOK/granite-finance-cookbook/.venv/lib/python3.12/site-packages (from dataclasses-json<0.7,>=0.5.7->langchain_community<0.3.0) (3.25.1)\n",
      "Requirement already satisfied: typing-inspect<1,>=0.4.0 in /Users/madhukanukula/WORKSPACE/GRANITE-COOKBOOK/granite-finance-cookbook/.venv/lib/python3.12/site-packages (from dataclasses-json<0.7,>=0.5.7->langchain_community<0.3.0) (0.9.0)\n",
      "Requirement already satisfied: anyio in /Users/madhukanukula/WORKSPACE/GRANITE-COOKBOOK/granite-finance-cookbook/.venv/lib/python3.12/site-packages (from httpx<1,>=0.21.0->replicate) (4.8.0)\n",
      "Requirement already satisfied: certifi in /Users/madhukanukula/WORKSPACE/GRANITE-COOKBOOK/granite-finance-cookbook/.venv/lib/python3.12/site-packages (from httpx<1,>=0.21.0->replicate) (2024.12.14)\n",
      "Requirement already satisfied: httpcore==1.* in /Users/madhukanukula/WORKSPACE/GRANITE-COOKBOOK/granite-finance-cookbook/.venv/lib/python3.12/site-packages (from httpx<1,>=0.21.0->replicate) (1.0.7)\n",
      "Requirement already satisfied: idna in /Users/madhukanukula/WORKSPACE/GRANITE-COOKBOOK/granite-finance-cookbook/.venv/lib/python3.12/site-packages (from httpx<1,>=0.21.0->replicate) (3.10)\n",
      "Requirement already satisfied: h11<0.15,>=0.13 in /Users/madhukanukula/WORKSPACE/GRANITE-COOKBOOK/granite-finance-cookbook/.venv/lib/python3.12/site-packages (from httpcore==1.*->httpx<1,>=0.21.0->replicate) (0.14.0)\n",
      "Collecting langchain-text-splitters<0.3.0,>=0.2.0 (from langchain<0.3.0,>=0.2.17->langchain_community<0.3.0)\n",
      "  Using cached langchain_text_splitters-0.2.4-py3-none-any.whl.metadata (2.3 kB)\n",
      "Requirement already satisfied: jsonpatch<2.0,>=1.33 in /Users/madhukanukula/WORKSPACE/GRANITE-COOKBOOK/granite-finance-cookbook/.venv/lib/python3.12/site-packages (from langchain-core<0.3.0,>=0.2.43->langchain_community<0.3.0) (1.33)\n",
      "Requirement already satisfied: orjson<4.0.0,>=3.9.14 in /Users/madhukanukula/WORKSPACE/GRANITE-COOKBOOK/granite-finance-cookbook/.venv/lib/python3.12/site-packages (from langsmith<0.2.0,>=0.1.112->langchain_community<0.3.0) (3.10.14)\n",
      "Requirement already satisfied: requests-toolbelt<2.0.0,>=1.0.0 in /Users/madhukanukula/WORKSPACE/GRANITE-COOKBOOK/granite-finance-cookbook/.venv/lib/python3.12/site-packages (from langsmith<0.2.0,>=0.1.112->langchain_community<0.3.0) (1.0.0)\n",
      "Requirement already satisfied: annotated-types>=0.6.0 in /Users/madhukanukula/WORKSPACE/GRANITE-COOKBOOK/granite-finance-cookbook/.venv/lib/python3.12/site-packages (from pydantic>1.10.7->replicate) (0.7.0)\n",
      "Requirement already satisfied: pydantic-core==2.27.2 in /Users/madhukanukula/WORKSPACE/GRANITE-COOKBOOK/granite-finance-cookbook/.venv/lib/python3.12/site-packages (from pydantic>1.10.7->replicate) (2.27.2)\n",
      "Requirement already satisfied: charset-normalizer<4,>=2 in /Users/madhukanukula/WORKSPACE/GRANITE-COOKBOOK/granite-finance-cookbook/.venv/lib/python3.12/site-packages (from requests<3,>=2->langchain_community<0.3.0) (3.4.1)\n",
      "Requirement already satisfied: urllib3<3,>=1.21.1 in /Users/madhukanukula/WORKSPACE/GRANITE-COOKBOOK/granite-finance-cookbook/.venv/lib/python3.12/site-packages (from requests<3,>=2->langchain_community<0.3.0) (2.3.0)\n",
      "Requirement already satisfied: jsonpointer>=1.9 in /Users/madhukanukula/WORKSPACE/GRANITE-COOKBOOK/granite-finance-cookbook/.venv/lib/python3.12/site-packages (from jsonpatch<2.0,>=1.33->langchain-core<0.3.0,>=0.2.43->langchain_community<0.3.0) (3.0.0)\n",
      "Requirement already satisfied: mypy-extensions>=0.3.0 in /Users/madhukanukula/WORKSPACE/GRANITE-COOKBOOK/granite-finance-cookbook/.venv/lib/python3.12/site-packages (from typing-inspect<1,>=0.4.0->dataclasses-json<0.7,>=0.5.7->langchain_community<0.3.0) (1.0.0)\n",
      "Requirement already satisfied: sniffio>=1.1 in /Users/madhukanukula/WORKSPACE/GRANITE-COOKBOOK/granite-finance-cookbook/.venv/lib/python3.12/site-packages (from anyio->httpx<1,>=0.21.0->replicate) (1.3.1)\n",
      "Using cached langchain_community-0.2.19-py3-none-any.whl (2.3 MB)\n",
      "Using cached langchain-0.2.17-py3-none-any.whl (1.0 MB)\n",
      "Using cached langchain_core-0.2.43-py3-none-any.whl (397 kB)\n",
      "Using cached langchain_text_splitters-0.2.4-py3-none-any.whl (25 kB)\n",
      "Installing collected packages: langchain-core, langchain-text-splitters, langchain, langchain_community\n",
      "  Attempting uninstall: langchain-core\n",
      "    Found existing installation: langchain-core 0.3.29\n",
      "    Uninstalling langchain-core-0.3.29:\n",
      "      Successfully uninstalled langchain-core-0.3.29\n",
      "  Attempting uninstall: langchain-text-splitters\n",
      "    Found existing installation: langchain-text-splitters 0.3.5\n",
      "    Uninstalling langchain-text-splitters-0.3.5:\n",
      "      Successfully uninstalled langchain-text-splitters-0.3.5\n",
      "  Attempting uninstall: langchain\n",
      "    Found existing installation: langchain 0.3.14\n",
      "    Uninstalling langchain-0.3.14:\n",
      "      Successfully uninstalled langchain-0.3.14\n",
      "  Attempting uninstall: langchain_community\n",
      "    Found existing installation: langchain-community 0.3.14\n",
      "    Uninstalling langchain-community-0.3.14:\n",
      "      Successfully uninstalled langchain-community-0.3.14\n",
      "\u001b[31mERROR: pip's dependency resolver does not currently take into account all the packages that are installed. This behaviour is the source of the following dependency conflicts.\n",
      "langchain-docling 0.2.0 requires langchain-core<0.4.0,>=0.3.0, but you have langchain-core 0.2.43 which is incompatible.\n",
      "langchain-huggingface 0.1.2 requires langchain-core<0.4.0,>=0.3.15, but you have langchain-core 0.2.43 which is incompatible.\u001b[0m\u001b[31m\n",
      "\u001b[0mSuccessfully installed langchain-0.2.17 langchain-core-0.2.43 langchain-text-splitters-0.2.4 langchain_community-0.2.19\n",
      "\n",
      "\u001b[1m[\u001b[0m\u001b[34;49mnotice\u001b[0m\u001b[1;39;49m]\u001b[0m\u001b[39;49m A new release of pip is available: \u001b[0m\u001b[31;49m24.2\u001b[0m\u001b[39;49m -> \u001b[0m\u001b[32;49m24.3.1\u001b[0m\n",
      "\u001b[1m[\u001b[0m\u001b[34;49mnotice\u001b[0m\u001b[1;39;49m]\u001b[0m\u001b[39;49m To update, run: \u001b[0m\u001b[32;49mpip install --upgrade pip\u001b[0m\n",
      "\n",
      "\u001b[1m[\u001b[0m\u001b[34;49mnotice\u001b[0m\u001b[1;39;49m]\u001b[0m\u001b[39;49m A new release of pip is available: \u001b[0m\u001b[31;49m24.2\u001b[0m\u001b[39;49m -> \u001b[0m\u001b[32;49m24.3.1\u001b[0m\n",
      "\u001b[1m[\u001b[0m\u001b[34;49mnotice\u001b[0m\u001b[1;39;49m]\u001b[0m\u001b[39;49m To update, run: \u001b[0m\u001b[32;49mpip install --upgrade pip\u001b[0m\n",
      "\u001b[31mERROR: You must give at least one requirement to install (see \"pip help install\")\u001b[0m\u001b[31m\n",
      "\u001b[0m"
     ]
    }
   ],
   "source": [
    "! pip install langchain-community langchain-docling langchain-core langchain-huggingface langchain\n",
    "! pip install pydantic python-dotenv\n",
    "! pip install git+https://github.com/ibm-granite-community/utils \"langchain_community<0.3.0\" replicate"
   ]
  },
  {
   "cell_type": "markdown",
   "metadata": {},
   "source": [
    "### Instantiate the model client"
   ]
  },
  {
   "cell_type": "code",
   "execution_count": 2,
   "metadata": {},
   "outputs": [],
   "source": [
    "import json\n",
    "import requests\n",
    "from langchain_community.llms import Replicate\n",
    "from ibm_granite_community.notebook_utils import get_env_var\n",
    "\n",
    "model = Replicate(\n",
    "    model=\"ibm-granite/granite-3.1-8b-instruct\",\n",
    "    replicate_api_token=get_env_var('REPLICATE_API_TOKEN'),\n",
    ")"
   ]
  },
  {
   "cell_type": "markdown",
   "metadata": {},
   "source": [
    "---"
   ]
  },
  {
   "cell_type": "markdown",
   "metadata": {},
   "source": [
    "### 1 - Entity Extraction by defining entities in the prompt"
   ]
  },
  {
   "cell_type": "markdown",
   "metadata": {},
   "source": [
    "The first approach is straightforward and involves explicitly defining the entities within the prompt itself. In this method, we specify the entities to be extracted along with their descriptions directly in the prompt. This includes:  \n",
    "\n",
    "<u>**Entity Definitions:**</u> Each entity, such as company name, name of the CEO are clearly outlined with a concise description of what it represents.  \n",
    "\n",
    "<u>**Prompt Structure:**</u> The prompt is structured to guide the LLM in understanding exactly what information is needed. By providing detailed instructions, we aim to ensure that the model focuses on extracting only the relevant data.  \n",
    "\n",
    "<u>**Output Format:**</u> The output is required to be in JSON format, which enforces a consistent structure for the extracted data. If any entity is not found, the model is instructed to return \"Data not available,\" preventing ambiguity.  "
   ]
  },
  {
   "cell_type": "markdown",
   "metadata": {},
   "source": [
    "### Reading from the transcript PDF."
   ]
  },
  {
   "cell_type": "markdown",
   "metadata": {},
   "source": [
    "Transcript is taken from -> https://www.ibm.com/investor/att/pdf/IBM-3Q23-Earnings-Prepared-Remarks.pdf"
   ]
  },
  {
   "cell_type": "markdown",
   "metadata": {},
   "source": [
    "We are loading the PDF from this link"
   ]
  },
  {
   "cell_type": "code",
   "execution_count": 3,
   "metadata": {},
   "outputs": [],
   "source": [
    "url = \"https://www.ibm.com/investor/att/pdf/IBM-3Q23-Earnings-Prepared-Remarks.pdf\"\n",
    "response = requests.get(url)\n",
    "pdf_data = response.content\n",
    "\n",
    "with open(\"IBM-3Q23-Earnings-Prepared-Remarks.pdf\", \"wb\") as file:\n",
    "    file.write(pdf_data)"
   ]
  },
  {
   "cell_type": "code",
   "execution_count": 4,
   "metadata": {},
   "outputs": [
    {
     "name": "stderr",
     "output_type": "stream",
     "text": [
      "/Users/madhukanukula/WORKSPACE/GRANITE-COOKBOOK/granite-finance-cookbook/.venv/lib/python3.12/site-packages/tqdm/auto.py:21: TqdmWarning: IProgress not found. Please update jupyter and ipywidgets. See https://ipywidgets.readthedocs.io/en/stable/user_install.html\n",
      "  from .autonotebook import tqdm as notebook_tqdm\n"
     ]
    }
   ],
   "source": [
    "from langchain_docling import DoclingLoader\n",
    "from docling.chunking import HybridChunker\n",
    "from langchain_docling.loader import ExportType\n",
    "\n",
    "EMBED_MODEL_ID = \"sentence-transformers/all-MiniLM-L6-v2\"\n",
    "EXPORT_TYPE = ExportType.DOC_CHUNKS\n",
    "\n",
    "def extract_text_from_pages(pdf_path, start_page, end_page):\n",
    "\n",
    "    loader = DoclingLoader(\n",
    "        file_path=\"IBM-3Q23-Earnings-Prepared-Remarks.pdf\",\n",
    "        export_type=EXPORT_TYPE,\n",
    "        chunker=HybridChunker(tokenizer=EMBED_MODEL_ID),\n",
    "    )\n",
    "\n",
    "    docs = loader.load()\n",
    "    return docs"
   ]
  },
  {
   "cell_type": "markdown",
   "metadata": {},
   "source": [
    "We are limiting and extracting the text from the PDF from 8th to 14th page that contains financial information."
   ]
  },
  {
   "cell_type": "code",
   "execution_count": 5,
   "metadata": {},
   "outputs": [
    {
     "name": "stderr",
     "output_type": "stream",
     "text": [
      "Downloading detection model, please wait. This may take several minutes depending upon your network connection.\n",
      "Downloading recognition model, please wait. This may take several minutes depending upon your network connection.\n"
     ]
    }
   ],
   "source": [
    "transcript_content = extract_text_from_pages(\"IBM-3Q23-Earnings-Prepared-Remarks.pdf\", 8, 14)"
   ]
  },
  {
   "cell_type": "markdown",
   "metadata": {},
   "source": [
    "All the entities that needs to be fetched are defined in the prompt itself along with the entity's description."
   ]
  },
  {
   "cell_type": "code",
   "execution_count": 6,
   "metadata": {},
   "outputs": [],
   "source": [
    "transcript_prompt = f\"\"\"\n",
    "<|start_of_role|>user<|end_of_role|>\n",
    "-You are AI Entity Extractor. You help extracting entities from the given transcript: {transcript_content}\n",
    "-Analyze this transcript and extract the following entities:\n",
    "\n",
    "1) `company_name` : This is the name of the company for which the transcript is given.\n",
    "2) `pre_tax_profit_percentage`: This is the operating pre-tax profit in percentage.\n",
    "3) `pre_tax_profit_number`: This is the operating pre-tax profit in numbers.\n",
    "4) `total_revenue_transaction_processing`: This is the total revenue growth for Transaction Processing sector in percentage.\n",
    "5) `total_revenue_data_ai`: This is the total revenue growth for Data and AI sector in percentage.\n",
    "6) `total_revenue_security`: This is the total revenue growth/decline for security sector in percentage.\n",
    "7) `total_revenue_automation`: This is total revenue growth/decline for automation sector in percentage.\n",
    "\n",
    "-Your output should strictly be in a json format.\n",
    "-If any entity is not found, your output shound be `data not available`. Do not make up your own entites if it is not present\n",
    "-Only strictly do what is asked to you. Do not give any explanations to your output.\n",
    "<|end_of_text|>\n",
    "<|start_of_role|>assistant<|end_of_role|>   \n",
    "\"\"\""
   ]
  },
  {
   "cell_type": "markdown",
   "metadata": {},
   "source": [
    "Invoking the model to get the results"
   ]
  },
  {
   "cell_type": "code",
   "execution_count": 7,
   "metadata": {},
   "outputs": [
    {
     "name": "stdout",
     "output_type": "stream",
     "text": [
      "{\n",
      "  \"company_name\": \"IBM\",\n",
      "  \"pre_tax_profit_percentage\": \"17%\",\n",
      "  \"pre_tax_profit_number\": \"$2.3 billion\",\n",
      "  \"total_revenue_transaction_processing\": \"5%\",\n",
      "  \"total_revenue_data_ai\": \"6%\",\n",
      "  \"total_revenue_security\": \"-3%\",\n",
      "  \"total_revenue_automation\": \"13%\"\n",
      "}\n"
     ]
    }
   ],
   "source": [
    "response = model.invoke(transcript_prompt)\n",
    "print(response)"
   ]
  },
  {
   "cell_type": "code",
   "execution_count": 8,
   "metadata": {},
   "outputs": [
    {
     "data": {
      "text/plain": [
       "{'company_name': 'IBM',\n",
       " 'pre_tax_profit_percentage': '17%',\n",
       " 'pre_tax_profit_number': '$2.3 billion',\n",
       " 'total_revenue_transaction_processing': '5%',\n",
       " 'total_revenue_data_ai': '6%',\n",
       " 'total_revenue_security': '-3%',\n",
       " 'total_revenue_automation': '13%'}"
      ]
     },
     "execution_count": 8,
     "metadata": {},
     "output_type": "execute_result"
    }
   ],
   "source": [
    "entities_transcript = json.loads(response)\n",
    "entities_transcript"
   ]
  },
  {
   "cell_type": "markdown",
   "metadata": {},
   "source": [
    "---"
   ]
  },
  {
   "cell_type": "markdown",
   "metadata": {},
   "source": [
    "### 2 - Pydantic Class-Based Entity Definition"
   ]
  },
  {
   "cell_type": "markdown",
   "metadata": {},
   "source": [
    "The second approach takes advantage of object-oriented programming principles by defining entities within a class structure. This method involves several key steps:  \n",
    "\n",
    "<u>**Class Definition:**</u> We create a class that encapsulates all the relevant entities as members. Each member corresponds to an entity such as CEO name, company name, etc., and can include type annotations for better validation and clarity.  \n",
    "\n",
    "<u>**Pydantic Integration:**</u> Utilizing Pydantic, a data validation library, we convert this class into a Pydantic model. This model not only defines the structure of our data but also provides built-in validation features, ensuring that any extracted data adheres to specified formats and types.  \n",
    "\n",
    "<u>**Dynamic Prompting:**</u> The Pydantic model can then be integrated with the prompt sent to the LLM. This allows for a more dynamic interaction where the model can adapt based on the defined structure of entities. If new entities are added or existing ones modified, changes can be made at the class level without needing to rewrite the entire prompt.  \n",
    "\n",
    "<u>**Enhanced Validation:**</u> By leveraging Pydantic's capabilities, we can ensure that any data extracted by the LLM meets our predefined criteria, enhancing data integrity and reliability.  \n",
    "\n",
    "This class-based approach offers greater flexibility and scalability compared to the first method. It allows for easier modifications and expansions as new requirements arise, making it particularly suitable for larger projects or those requiring frequent updates."
   ]
  },
  {
   "cell_type": "markdown",
   "metadata": {},
   "source": [
    "Defining all the entities in a class along with the descripiton."
   ]
  },
  {
   "cell_type": "code",
   "execution_count": 9,
   "metadata": {},
   "outputs": [],
   "source": [
    "from pydantic import BaseModel, Field\n",
    "from typing import List\n",
    "from langchain.utils.openai_functions import convert_pydantic_to_openai_function"
   ]
  },
  {
   "cell_type": "markdown",
   "metadata": {},
   "source": [
    "Defining all the entities in a class along with the descripiton."
   ]
  },
  {
   "cell_type": "code",
   "execution_count": 10,
   "metadata": {},
   "outputs": [],
   "source": [
    "class PreTaxProfit(BaseModel):\n",
    "    \"This contains information of the company's pre-tax profit in percentage as well as in numbers.\"\n",
    "    pre_tax_profit_percentage: str = Field(description=\"Operating pre-tax profit in percentage.\")\n",
    "    pre_tax_profit_numbers: str = Field(description=\"Operating pre-tax profit in numbers.\")\n",
    "\n",
    "\n",
    "class RevenueGrowth(BaseModel):\n",
    "    \"This contains information of the company's revenue growth.\"\n",
    "    total_revenue_change_transaction_processing: float = Field(description=\"Total revenue change for Transaction Processing sector in percentage.\")\n",
    "    total_revenue_change_data_ai: float = Field(description=\"Total revenue change for Data and AI sector in percentage.\")\n",
    "    total_revenue_change_security: float = Field(description=\"Total revenue change for security sector in percentage.\")\n",
    "    total_revenue_change_automation: float = Field(description=\"Total revenue change for automation sector in percentage.\")"
   ]
  },
  {
   "cell_type": "markdown",
   "metadata": {},
   "source": [
    "Wrapping all the classes into one parent class which is given to pydantic."
   ]
  },
  {
   "cell_type": "code",
   "execution_count": 11,
   "metadata": {},
   "outputs": [],
   "source": [
    "class EarningCallReport(BaseModel):\n",
    "    \"This contains information about the company.\"\n",
    "    company_name: str = Field(description=\"The public company name.\")\n",
    "    pre_tax_profit: PreTaxProfit = Field(description=\"Operating pre-tax profit.\")\n",
    "    revenue: RevenueGrowth = Field(description=\"All revenue growth details for all sectors.\")"
   ]
  },
  {
   "cell_type": "code",
   "execution_count": 12,
   "metadata": {},
   "outputs": [
    {
     "name": "stderr",
     "output_type": "stream",
     "text": [
      "/var/folders/bb/yhn_xpt54b10d138nmjsk8x40000gn/T/ipykernel_38230/3622871957.py:1: LangChainDeprecationWarning: The function `convert_pydantic_to_openai_function` was deprecated in LangChain 0.1.16 and will be removed in 1.0. Use langchain_core.utils.function_calling.convert_to_openai_function() instead.\n",
      "  transcript_function = convert_pydantic_to_openai_function(EarningCallReport)\n"
     ]
    }
   ],
   "source": [
    "transcript_function = convert_pydantic_to_openai_function(EarningCallReport)\n"
   ]
  },
  {
   "cell_type": "markdown",
   "metadata": {},
   "source": [
    "Same prompt as before, but here, the pydantic function is passed here instead of defining each entity in the prompt."
   ]
  },
  {
   "cell_type": "code",
   "execution_count": 13,
   "metadata": {},
   "outputs": [],
   "source": [
    "entity_prompt_with_pydantic = f\"\"\"\n",
    "<|start_of_role|>user<|end_of_role|>\n",
    "-You are AI Entity Extractor. You help extracting entities from the given transcript: {transcript_content}\n",
    "-Analyze this transcript and extract the following entities as per the following function defination: {transcript_function}\n",
    "-Your output should strictly be in a json format.\n",
    "-Do not generate random entities on your own. If it is not present or you are unable to find any specified entity, you strictly have to output it as `Data not available`.\n",
    "-Only do what is asked to you. Do not start with or give any explanations to your output and do not hallucinate.\n",
    "<|end_of_text|>\n",
    "<|start_of_role|>assistant<|end_of_role|>   \n",
    "\"\"\"\n"
   ]
  },
  {
   "cell_type": "markdown",
   "metadata": {},
   "source": [
    "Invoking the model to get the results"
   ]
  },
  {
   "cell_type": "code",
   "execution_count": 14,
   "metadata": {},
   "outputs": [
    {
     "name": "stdout",
     "output_type": "stream",
     "text": [
      "{\"company_name\": \"IBM\", \"pre_tax_profit\": {\"pre_tax_profit_percentage\": \"17%\", \"pre_tax_profit_numbers\": \"$2.3 billion\"}, \"revenue\": {\"total_revenue_change_transaction_processing\": \"5%\", \"total_revenue_change_data_ai\": \"6%\", \"total_revenue_change_security\": \"-3%\", \"total_revenue_change_automation\": \"13%\"}}\n"
     ]
    }
   ],
   "source": [
    "response = model.invoke(entity_prompt_with_pydantic)\n",
    "print(response)"
   ]
  },
  {
   "cell_type": "code",
   "execution_count": 15,
   "metadata": {},
   "outputs": [
    {
     "data": {
      "text/plain": [
       "{'company_name': 'IBM',\n",
       " 'pre_tax_profit': {'pre_tax_profit_percentage': '17%',\n",
       "  'pre_tax_profit_numbers': '$2.3 billion'},\n",
       " 'revenue': {'total_revenue_change_transaction_processing': '5%',\n",
       "  'total_revenue_change_data_ai': '6%',\n",
       "  'total_revenue_change_security': '-3%',\n",
       "  'total_revenue_change_automation': '13%'}}"
      ]
     },
     "execution_count": 15,
     "metadata": {},
     "output_type": "execute_result"
    }
   ],
   "source": [
    "entities_transcript_pydantic = json.loads(response)\n",
    "entities_transcript_pydantic"
   ]
  },
  {
   "cell_type": "markdown",
   "metadata": {},
   "source": [
    "---"
   ]
  }
 ],
 "metadata": {
  "kernelspec": {
   "display_name": ".venv",
   "language": "python",
   "name": "python3"
  },
  "language_info": {
   "codemirror_mode": {
    "name": "ipython",
    "version": 3
   },
   "file_extension": ".py",
   "mimetype": "text/x-python",
   "name": "python",
   "nbconvert_exporter": "python",
   "pygments_lexer": "ipython3",
   "version": "3.12.7"
  }
 },
 "nbformat": 4,
 "nbformat_minor": 2
}
