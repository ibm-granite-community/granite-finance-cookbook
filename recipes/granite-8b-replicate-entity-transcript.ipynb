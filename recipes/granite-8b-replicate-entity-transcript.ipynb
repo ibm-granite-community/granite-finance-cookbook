{
 "cells": [
  {
   "cell_type": "markdown",
   "metadata": {},
   "source": [
    "## **Entity Extraction from IBM's Quaterly Earning Transcript call using Granite-8B**"
   ]
  },
  {
   "cell_type": "markdown",
   "metadata": {},
   "source": [
    "##### This notebook works with two approaches to extract the entities from the transcript. The first approach is defining the entities in the prompt directly along with its description. In the second approach, we are defining the entities in a class and then converting it into pydantic function. This is then passed along with the prompt to the LLM."
   ]
  },
  {
   "cell_type": "markdown",
   "metadata": {},
   "source": [
    "##### The model used in this notebook is IBM's Granite-8b-preview-4k.\n",
    "Authors: Anupam Chakraborty, Amogh Ranavade"
   ]
  },
  {
   "cell_type": "markdown",
   "metadata": {},
   "source": [
    "----"
   ]
  },
  {
   "cell_type": "markdown",
   "metadata": {},
   "source": [
    "### Install dependencies"
   ]
  },
  {
   "cell_type": "code",
   "execution_count": null,
   "metadata": {},
   "outputs": [],
   "source": [
    "!pip install langchain-community\n",
    "!pip install git+https://github.com/ibm-granite-community/granite-kitchen\n",
    "!pip install pydantic"
   ]
  },
  {
   "cell_type": "markdown",
   "metadata": {},
   "source": [
    "### Instantiate the model client"
   ]
  },
  {
   "cell_type": "code",
   "execution_count": 2,
   "metadata": {},
   "outputs": [],
   "source": [
    "import json\n",
    "import requests\n",
    "import fitz\n",
    "from langchain_community.llms import Replicate\n",
    "from ibm_granite_community.notebook_utils import get_env_var\n",
    "\n",
    "model = Replicate(\n",
    "    model=\"ibm-granite/granite-3.0-8b-instruct:8d8fb55950fb8eb2817fc078b7b05a0bd3ecc612d6332d8009fb0c007839192e\",\n",
    "    replicate_api_token=get_env_var('REPLICATE_API_TOKEN'),\n",
    ")"
   ]
  },
  {
   "cell_type": "markdown",
   "metadata": {},
   "source": [
    "---"
   ]
  },
  {
   "cell_type": "markdown",
   "metadata": {},
   "source": [
    "### 1 - Entity Extraction by defining entities in the prompt"
   ]
  },
  {
   "cell_type": "markdown",
   "metadata": {},
   "source": [
    "The first approach is straightforward and involves explicitly defining the entities within the prompt itself. In this method, we specify the entities to be extracted along with their descriptions directly in the prompt. This includes:  \n",
    "\n",
    "<u>**Entity Definitions:**</u> Each entity, such as company name, name of the CEO are clearly outlined with a concise description of what it represents.  \n",
    "\n",
    "<u>**Prompt Structure:**</u> The prompt is structured to guide the LLM in understanding exactly what information is needed. By providing detailed instructions, we aim to ensure that the model focuses on extracting only the relevant data.  \n",
    "\n",
    "<u>**Output Format:**</u> The output is required to be in JSON format, which enforces a consistent structure for the extracted data. If any entity is not found, the model is instructed to return \"Data not available,\" preventing ambiguity.  "
   ]
  },
  {
   "cell_type": "markdown",
   "metadata": {},
   "source": [
    "### Reading from the transcript PDF."
   ]
  },
  {
   "cell_type": "markdown",
   "metadata": {},
   "source": [
    "Transcript is taken from -> https://www.ibm.com/investor/att/pdf/IBM-3Q23-Earnings-Prepared-Remarks.pdf"
   ]
  },
  {
   "cell_type": "markdown",
   "metadata": {},
   "source": [
    "We are loading the PDF from this link"
   ]
  },
  {
   "cell_type": "code",
   "execution_count": 4,
   "metadata": {},
   "outputs": [],
   "source": [
    "url = \"https://www.ibm.com/investor/att/pdf/IBM-3Q23-Earnings-Prepared-Remarks.pdf\"\n",
    "response = requests.get(url)\n",
    "pdf_data = response.content\n",
    "\n",
    "with open(\"IBM-3Q23-Earnings-Prepared-Remarks.pdf\", \"wb\") as file:\n",
    "    file.write(pdf_data)"
   ]
  },
  {
   "cell_type": "code",
   "execution_count": null,
   "metadata": {},
   "outputs": [],
   "source": [
    "def extract_text_from_pages(pdf_path, start_page, end_page):\n",
    "    text = \"\"\n",
    "    with fitz.open(pdf_path) as doc:\n",
    "        for page_num in range(start_page - 1, end_page):\n",
    "            page = doc.load_page(page_num)\n",
    "            text += page.get_text(\"text\")\n",
    "    return text"
   ]
  },
  {
   "cell_type": "markdown",
   "metadata": {},
   "source": [
    "We are limiting and extracting the text from the PDF from 8th to 14th page due to the input token limit of granite."
   ]
  },
  {
   "cell_type": "code",
   "execution_count": 30,
   "metadata": {},
   "outputs": [],
   "source": [
    "transcript_content = extract_text_from_pages(\"IBM-3Q23-Earnings-Prepared-Remarks.pdf\", 8, 14)"
   ]
  },
  {
   "cell_type": "markdown",
   "metadata": {},
   "source": [
    "All the entities that needs to be fetched are defined in the prompt itself along with the entity's description."
   ]
  },
  {
   "cell_type": "code",
   "execution_count": 85,
   "metadata": {},
   "outputs": [],
   "source": [
    "transcript_prompt = f\"\"\"\n",
    "<|start_of_role|>user<|end_of_role|>\n",
    "-You are AI Entity Extractor. You help extracting entities from the given transcript: {transcript_content}\n",
    "-Analyze this transcript and extract the following entities:\n",
    "\n",
    "1) `company_name` : This is the name of the company for which the transcript is given.\n",
    "2) `pre_tax_profit_percentage`: This is the operating pre-tax profit in percentage.\n",
    "3) `pre_tax_profit_number`: This is the operating pre-tax profit in numbers.\n",
    "4) `total_revenue_transaction_processing`: This is the total revenue growth for Transaction Processing sector in percentage.\n",
    "5) `total_revenue_data_ai`: This is the total revenue growth for Data and AI sector in percentage.\n",
    "6) `total_revenue_security`: This is the total revenue growth/decline for security sector in percentage.\n",
    "7) `total_revenue_automation`: This is total revenue growth/decline for automation sector in percentage.\n",
    "\n",
    "-Your output should strictly be in a json format.\n",
    "-If any entity is not found, your output shound be `data not available`. Do not make up your own entites if it is not present\n",
    "-Only strictly do what is asked to you. Do not give any explanations to your output.\n",
    "<|end_of_text|>\n",
    "<|start_of_role|>assistant<|end_of_role|>   \n",
    "\"\"\""
   ]
  },
  {
   "cell_type": "markdown",
   "metadata": {},
   "source": [
    "Invoking the model to get the results"
   ]
  },
  {
   "cell_type": "code",
   "execution_count": 87,
   "metadata": {},
   "outputs": [
    {
     "name": "stdout",
     "output_type": "stream",
     "text": [
      "{\n",
      "  \"company_name\": \"IBM\",\n",
      "  \"pre_tax_profit_percentage\": \"17%\",\n",
      "  \"pre_tax_profit_number\": \"$2.3 billion\",\n",
      "  \"total_revenue_transaction_processing\": \"5%\",\n",
      "  \"total_revenue_data_ai\": \"6%\",\n",
      "  \"total_revenue_security\": \"-3%\",\n",
      "  \"total_revenue_automation\": \"13%\"\n",
      "}\n"
     ]
    }
   ],
   "source": [
    "response = model.invoke(transcript_prompt)\n",
    "print(response)"
   ]
  },
  {
   "cell_type": "code",
   "execution_count": 88,
   "metadata": {},
   "outputs": [
    {
     "data": {
      "text/plain": [
       "{'company_name': 'IBM',\n",
       " 'pre_tax_profit_percentage': '17%',\n",
       " 'pre_tax_profit_number': '$2.3 billion',\n",
       " 'total_revenue_transaction_processing': '5%',\n",
       " 'total_revenue_data_ai': '6%',\n",
       " 'total_revenue_security': '-3%',\n",
       " 'total_revenue_automation': '13%'}"
      ]
     },
     "execution_count": 88,
     "metadata": {},
     "output_type": "execute_result"
    }
   ],
   "source": [
    "entities_transcript = json.loads(response)\n",
    "entities_transcript"
   ]
  },
  {
   "cell_type": "markdown",
   "metadata": {},
   "source": [
    "---"
   ]
  },
  {
   "cell_type": "markdown",
   "metadata": {},
   "source": [
    "### 2 - Pydantic Class-Based Entity Definition"
   ]
  },
  {
   "cell_type": "markdown",
   "metadata": {},
   "source": [
    "The second approach takes advantage of object-oriented programming principles by defining entities within a class structure. This method involves several key steps:  \n",
    "\n",
    "<u>**Class Definition:**</u> We create a class that encapsulates all the relevant entities as members. Each member corresponds to an entity such as CEO name, company name, etc., and can include type annotations for better validation and clarity.  \n",
    "\n",
    "<u>**Pydantic Integration:**</u> Utilizing Pydantic, a data validation library, we convert this class into a Pydantic model. This model not only defines the structure of our data but also provides built-in validation features, ensuring that any extracted data adheres to specified formats and types.  \n",
    "\n",
    "<u>**Dynamic Prompting:**</u> The Pydantic model can then be integrated with the prompt sent to the LLM. This allows for a more dynamic interaction where the model can adapt based on the defined structure of entities. If new entities are added or existing ones modified, changes can be made at the class level without needing to rewrite the entire prompt.  \n",
    "\n",
    "<u>**Enhanced Validation:**</u> By leveraging Pydantic's capabilities, we can ensure that any data extracted by the LLM meets our predefined criteria, enhancing data integrity and reliability.  \n",
    "\n",
    "This class-based approach offers greater flexibility and scalability compared to the first method. It allows for easier modifications and expansions as new requirements arise, making it particularly suitable for larger projects or those requiring frequent updates."
   ]
  },
  {
   "cell_type": "markdown",
   "metadata": {},
   "source": [
    "Defining all the entities in a class along with the descripiton."
   ]
  },
  {
   "cell_type": "code",
   "execution_count": 39,
   "metadata": {},
   "outputs": [],
   "source": [
    "from pydantic import BaseModel, Field\n",
    "from typing import List\n",
    "from langchain.utils.openai_functions import convert_pydantic_to_openai_function"
   ]
  },
  {
   "cell_type": "markdown",
   "metadata": {},
   "source": [
    "Defining all the entities in a class along with the descripiton."
   ]
  },
  {
   "cell_type": "code",
   "execution_count": 49,
   "metadata": {},
   "outputs": [],
   "source": [
    "class PreTaxProfit(BaseModel):\n",
    "    \"This contains information of the company's pre-tax profit in percentage as well as in numbers.\"\n",
    "    pre_tax_profit_percentage: str = Field(description=\"Operating pre-tax profit in percentage.\")\n",
    "    pre_tax_profit_numbers: str = Field(description=\"Operating pre-tax profit in numbers.\")\n",
    "\n",
    "\n",
    "class RevenueGrowth(BaseModel):\n",
    "    \"This contains information of the company's revenue growth.\"\n",
    "    total_revenue_change_transaction_processing: float = Field(description=\"Total revenue change for Transaction Processing sector in percentage.\")\n",
    "    total_revenue_change_data_ai: float = Field(description=\"Total revenue change for Data and AI sector in percentage.\")\n",
    "    total_revenue_change_security: float = Field(description=\"Total revenue change for security sector in percentage.\")\n",
    "    total_revenue_change_automation: float = Field(description=\"Total revenue change for automation sector in percentage.\")"
   ]
  },
  {
   "cell_type": "markdown",
   "metadata": {},
   "source": [
    "Wrapping all the classes into one parent class which is given to pydantic."
   ]
  },
  {
   "cell_type": "code",
   "execution_count": 62,
   "metadata": {},
   "outputs": [],
   "source": [
    "class EarningCallReport(BaseModel):\n",
    "    \"This contains information about the company.\"\n",
    "    company_name: str = Field(description=\"The public company name.\")\n",
    "    pre_tax_profit: PreTaxProfit = Field(description=\"Operating pre-tax profit.\")\n",
    "    revenue: RevenueGrowth = Field(description=\"All revenue growth details for all sectors.\")"
   ]
  },
  {
   "cell_type": "code",
   "execution_count": 63,
   "metadata": {},
   "outputs": [],
   "source": [
    "transcript_function = convert_pydantic_to_openai_function(EarningCallReport)\n"
   ]
  },
  {
   "cell_type": "markdown",
   "metadata": {},
   "source": [
    "Same prompt as before, but here, the pydantic function is passed here instead of defining each entity in the prompt."
   ]
  },
  {
   "cell_type": "code",
   "execution_count": 70,
   "metadata": {},
   "outputs": [],
   "source": [
    "entity_prompt_with_pydantic = f\"\"\"\n",
    "<|start_of_role|>user<|end_of_role|>\n",
    "-You are AI Entity Extractor. You help extracting entities from the given transcript: {transcript_content}\n",
    "-Analyze this transcript and extract the following entities as per the following function defination: {transcript_function}\n",
    "-Your output should strictly be in a json format.\n",
    "-Do not generate random entities on your own. If it is not present or you are unable to find any specified entity, you strictly have to output it as `Data not available`.\n",
    "-Only do what is asked to you. Do not start with or give any explanations to your output and do not hallucinate.\n",
    "<|end_of_text|>\n",
    "<|start_of_role|>assistant<|end_of_role|>   \n",
    "\"\"\"\n"
   ]
  },
  {
   "cell_type": "markdown",
   "metadata": {},
   "source": [
    "Invoking the model to get the results"
   ]
  },
  {
   "cell_type": "code",
   "execution_count": 73,
   "metadata": {},
   "outputs": [
    {
     "name": "stdout",
     "output_type": "stream",
     "text": [
      "{\n",
      "  \"company_name\": \"IBM\",\n",
      "  \"pre_tax_profit\": {\n",
      "    \"pre_tax_profit_percentage\": \"17%\",\n",
      "    \"pre_tax_profit_numbers\": \"$2.3 billion\"\n",
      "  },\n",
      "  \"revenue\": {\n",
      "    \"total_revenue_change_transaction_processing\": \"5%\",\n",
      "    \"total_revenue_change_data_ai\": \"6%\",\n",
      "    \"total_revenue_change_security\": \"-3%\",\n",
      "    \"total_revenue_change_automation\": \"13%\"\n",
      "  }\n",
      "}\n"
     ]
    }
   ],
   "source": [
    "response = model.invoke(entity_prompt_with_pydantic)\n",
    "print(response)"
   ]
  },
  {
   "cell_type": "code",
   "execution_count": 74,
   "metadata": {},
   "outputs": [
    {
     "data": {
      "text/plain": [
       "{'company_name': 'IBM',\n",
       " 'pre_tax_profit': {'pre_tax_profit_percentage': '17%',\n",
       "  'pre_tax_profit_numbers': '$2.3 billion'},\n",
       " 'revenue': {'total_revenue_change_transaction_processing': '5%',\n",
       "  'total_revenue_change_data_ai': '6%',\n",
       "  'total_revenue_change_security': '-3%',\n",
       "  'total_revenue_change_automation': '13%'}}"
      ]
     },
     "execution_count": 74,
     "metadata": {},
     "output_type": "execute_result"
    }
   ],
   "source": [
    "entities_transcript_pydantic = json.loads(response)\n",
    "entities_transcript_pydantic"
   ]
  },
  {
   "cell_type": "markdown",
   "metadata": {},
   "source": [
    "---"
   ]
  }
 ],
 "metadata": {
  "kernelspec": {
   "display_name": "granite-enablement",
   "language": "python",
   "name": "python3"
  },
  "language_info": {
   "codemirror_mode": {
    "name": "ipython",
    "version": 3
   },
   "file_extension": ".py",
   "mimetype": "text/x-python",
   "name": "python",
   "nbconvert_exporter": "python",
   "pygments_lexer": "ipython3",
   "version": "3.11.5"
  }
 },
 "nbformat": 4,
 "nbformat_minor": 2
}
